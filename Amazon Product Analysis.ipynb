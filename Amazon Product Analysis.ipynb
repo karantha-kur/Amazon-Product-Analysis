{
 "cells": [
  {
   "attachments": {},
   "cell_type": "markdown",
   "id": "e7167d70",
   "metadata": {},
   "source": [
    "# BIG DATA ANALYTICS WITH <font color='green'>PYSPARK</font>"
   ]
  },
  {
   "attachments": {},
   "cell_type": "markdown",
   "id": "169dfaa4",
   "metadata": {},
   "source": [
    "## <font color='blue'>Pandas</font>"
   ]
  },
  {
   "cell_type": "code",
   "execution_count": 1,
   "id": "0a876fa8",
   "metadata": {},
   "outputs": [],
   "source": [
    "import pandas as pd\n",
    "import time"
   ]
  },
  {
   "cell_type": "code",
   "execution_count": 2,
   "id": "d652897d",
   "metadata": {},
   "outputs": [],
   "source": [
    "# Define the file path\n",
    "file_path = '/Users/hipprofessional/Downloads/Amazon products dataset.csv'"
   ]
  },
  {
   "cell_type": "code",
   "execution_count": 3,
   "id": "15c12f4a",
   "metadata": {},
   "outputs": [],
   "source": [
    "df = pd.read_csv(file_path)"
   ]
  },
  {
   "attachments": {},
   "cell_type": "markdown",
   "id": "6f569017",
   "metadata": {},
   "source": [
    "#### <font color='blue'>Reading in the csv file using pd.read_csv doesn't work. My computer couldn't handle the massive dataset</font>"
   ]
  },
  {
   "cell_type": "code",
   "execution_count": 4,
   "id": "bfe21bb9",
   "metadata": {},
   "outputs": [
    {
     "name": "stdout",
     "output_type": "stream",
     "text": [
      "    timestamp        asin       brand  buybox_seller final_price  \\\n",
      "0  2022-10-03  B07W5RF3HH  Kensington            NaN      $29.49   \n",
      "1  2023-09-10  B0C5J3P4FP     Jzyliti        Chumgap        9.99   \n",
      "2  2023-09-10  B0BC3Y5LDP    Tamispit  Sienfix_Store       29.99   \n",
      "3  2023-09-10  B0C8SGDRX5      DYEYOY     DYEYOY USA       29.99   \n",
      "4  2023-08-22  B08F6T1CJ7          HP     Amazon.com         699   \n",
      "\n",
      "   number_of_sellers  root_bs_rank  reviews_count currency  \\\n",
      "0               19.0          80.0            114        $   \n",
      "1                1.0        1231.0            210      USD   \n",
      "2                2.0        2132.0           2087      USD   \n",
      "3                1.0        4431.0           1319      USD   \n",
      "4                5.0        9118.0            487      USD   \n",
      "\n",
      "                                           image_url  ...  video  \\\n",
      "0  https://m.media-amazon.com/images/I/41HY8rhd7T...  ...   True   \n",
      "1  https://m.media-amazon.com/images/I/519kCtmSNM...  ...  False   \n",
      "2  https://m.media-amazon.com/images/I/61SPoXa5gt...  ...  False   \n",
      "3  https://m.media-amazon.com/images/I/71pRaqeCNJ...  ...  False   \n",
      "4  https://m.media-amazon.com/images/I/81sJcFP6mA...  ...  False   \n",
      "\n",
      "     seller_name ISBN10                   domain  \\\n",
      "0            NaN    NaN           www.amazon.com   \n",
      "1        Chumgap    NaN  https://www.amazon.com/   \n",
      "2  Sienfix_Store    NaN  https://www.amazon.com/   \n",
      "3     DYEYOY USA    NaN  https://www.amazon.com/   \n",
      "4     Amazon.com    NaN  https://www.amazon.com/   \n",
      "\n",
      "                                          variations  \\\n",
      "0                                                NaN   \n",
      "1                                                NaN   \n",
      "2  [{\"asin\":\"B0BC3Y5LDP\",\"name\":\"black\"},{\"asin\":...   \n",
      "3                                                NaN   \n",
      "4  [{\"asin\":\"B0B13TLC24\",\"name\":\"24-inch Plotter ...   \n",
      "\n",
      "                                            delivery  final_price_high  \\\n",
      "0  FREE delivery Sat, Oct 8,Or fastest delivery W...               NaN   \n",
      "1  FREE delivery Saturday, September 16 on orders...               NaN   \n",
      "2  FREE delivery Saturday, September 16 on orders...               NaN   \n",
      "3  FREE delivery Saturday, September 16,Or fastes...               NaN   \n",
      "4  FREE delivery Tuesday, August 29,Or fastest de...               NaN   \n",
      "\n",
      "                                            features format  \\\n",
      "0  Superior strength lockhead to resist tampering...    NaN   \n",
      "1  Energy saving The function of the power saving...    NaN   \n",
      "2  【Multi-Function Smart Watch】 The Q9 PRO smartw...    NaN   \n",
      "3  🖨️Compatible Printer OfficeJet Pro 251dw 276dw...    NaN   \n",
      "4  Ideal for Technical line drawings, renders req...    NaN   \n",
      "\n",
      "                                       buybox_prices  \n",
      "0  {\"buy_new\":null,\"buy_used\":null,\"discount\":nul...  \n",
      "1  {\"discount\":\"-17%\",\"final_price\":9.99,\"initial...  \n",
      "2  {\"discount\":\"-40%\",\"final_price\":29.99,\"initia...  \n",
      "3  {\"discount\":\"$6.00 (17%)\",\"final_price\":29.99,...  \n",
      "4  {\"discount\":\"-13%\",\"final_price\":699,\"initial_...  \n",
      "\n",
      "[5 rows x 42 columns]\n",
      "Execution Time using chunks: 0.07119989395141602 seconds\n"
     ]
    }
   ],
   "source": [
    "# Start the timer\n",
    "start_time = time.time()\n",
    "\n",
    "df = pd.read_csv(file_path)\n",
    "\n",
    "# End the timer\n",
    "end_time = time.time()\n",
    "\n",
    "# Calculate the execution time\n",
    "execution_time = end_time - start_time\n",
    "\n",
    "# Print the first few rows of the DataFrame\n",
    "print(df.head(5))\n",
    "\n",
    "# Print the execution time\n",
    "print(\"Execution Time using chunks:\", execution_time, \"seconds\")"
   ]
  },
  {
   "attachments": {},
   "cell_type": "markdown",
   "id": "ac2bfd15",
   "metadata": {},
   "source": [
    "#### <font color='blue'>Reading in the csv file using chunks also doesn't work. My computer still could not handle the massive dataset</font>"
   ]
  },
  {
   "cell_type": "code",
   "execution_count": 5,
   "id": "63fa9abb",
   "metadata": {},
   "outputs": [
    {
     "name": "stdout",
     "output_type": "stream",
     "text": [
      "    timestamp        asin       brand  buybox_seller final_price  \\\n",
      "0  2022-10-03  B07W5RF3HH  Kensington            NaN      $29.49   \n",
      "1  2023-09-10  B0C5J3P4FP     Jzyliti        Chumgap        9.99   \n",
      "2  2023-09-10  B0BC3Y5LDP    Tamispit  Sienfix_Store       29.99   \n",
      "3  2023-09-10  B0C8SGDRX5      DYEYOY     DYEYOY USA       29.99   \n",
      "4  2023-08-22  B08F6T1CJ7          HP     Amazon.com         699   \n",
      "\n",
      "   number_of_sellers  root_bs_rank  reviews_count currency  \\\n",
      "0               19.0          80.0            114        $   \n",
      "1                1.0        1231.0            210      USD   \n",
      "2                2.0        2132.0           2087      USD   \n",
      "3                1.0        4431.0           1319      USD   \n",
      "4                5.0        9118.0            487      USD   \n",
      "\n",
      "                                           image_url  ...  video  \\\n",
      "0  https://m.media-amazon.com/images/I/41HY8rhd7T...  ...   True   \n",
      "1  https://m.media-amazon.com/images/I/519kCtmSNM...  ...  False   \n",
      "2  https://m.media-amazon.com/images/I/61SPoXa5gt...  ...  False   \n",
      "3  https://m.media-amazon.com/images/I/71pRaqeCNJ...  ...  False   \n",
      "4  https://m.media-amazon.com/images/I/81sJcFP6mA...  ...  False   \n",
      "\n",
      "     seller_name ISBN10                   domain  \\\n",
      "0            NaN    NaN           www.amazon.com   \n",
      "1        Chumgap    NaN  https://www.amazon.com/   \n",
      "2  Sienfix_Store    NaN  https://www.amazon.com/   \n",
      "3     DYEYOY USA    NaN  https://www.amazon.com/   \n",
      "4     Amazon.com    NaN  https://www.amazon.com/   \n",
      "\n",
      "                                          variations  \\\n",
      "0                                                NaN   \n",
      "1                                                NaN   \n",
      "2  [{\"asin\":\"B0BC3Y5LDP\",\"name\":\"black\"},{\"asin\":...   \n",
      "3                                                NaN   \n",
      "4  [{\"asin\":\"B0B13TLC24\",\"name\":\"24-inch Plotter ...   \n",
      "\n",
      "                                            delivery  final_price_high  \\\n",
      "0  FREE delivery Sat, Oct 8,Or fastest delivery W...               NaN   \n",
      "1  FREE delivery Saturday, September 16 on orders...               NaN   \n",
      "2  FREE delivery Saturday, September 16 on orders...               NaN   \n",
      "3  FREE delivery Saturday, September 16,Or fastes...               NaN   \n",
      "4  FREE delivery Tuesday, August 29,Or fastest de...               NaN   \n",
      "\n",
      "                                            features format  \\\n",
      "0  Superior strength lockhead to resist tampering...    NaN   \n",
      "1  Energy saving The function of the power saving...    NaN   \n",
      "2  【Multi-Function Smart Watch】 The Q9 PRO smartw...    NaN   \n",
      "3  🖨️Compatible Printer OfficeJet Pro 251dw 276dw...    NaN   \n",
      "4  Ideal for Technical line drawings, renders req...    NaN   \n",
      "\n",
      "                                       buybox_prices  \n",
      "0  {\"buy_new\":null,\"buy_used\":null,\"discount\":nul...  \n",
      "1  {\"discount\":\"-17%\",\"final_price\":9.99,\"initial...  \n",
      "2  {\"discount\":\"-40%\",\"final_price\":29.99,\"initia...  \n",
      "3  {\"discount\":\"$6.00 (17%)\",\"final_price\":29.99,...  \n",
      "4  {\"discount\":\"-13%\",\"final_price\":699,\"initial_...  \n",
      "\n",
      "[5 rows x 42 columns]\n",
      "Execution Time using chunks: 0.07223296165466309 seconds\n"
     ]
    }
   ],
   "source": [
    "# Define the chunk size\n",
    "chunk_size = 10000\n",
    "\n",
    "# Initialize an empty list to store the chunks\n",
    "chunks = []\n",
    "\n",
    "# Start the timer\n",
    "start_time = time.time()\n",
    "\n",
    "# Iterate through the CSV file in chunks\n",
    "for chunk in pd.read_csv(file_path, chunksize=chunk_size):\n",
    "    chunks.append(chunk)\n",
    "\n",
    "# Concatenate the chunks into a single DataFrame\n",
    "df = pd.concat(chunks, ignore_index=True)\n",
    "\n",
    "# End the timer\n",
    "end_time = time.time()\n",
    "\n",
    "# Calculate the execution time\n",
    "execution_time = end_time - start_time\n",
    "\n",
    "# Print the first few rows of the DataFrame\n",
    "print(df.head(5))\n",
    "\n",
    "# Print the execution time\n",
    "print(\"Execution Time using chunks:\", execution_time, \"seconds\")"
   ]
  },
  {
   "attachments": {},
   "cell_type": "markdown",
   "id": "fb42fe54",
   "metadata": {},
   "source": [
    "## <font color='green'>Spark</font>"
   ]
  },
  {
   "cell_type": "code",
   "execution_count": 6,
   "id": "a514d853",
   "metadata": {},
   "outputs": [],
   "source": [
    "# Importing the necessary libraries\n",
    "import time\n",
    "import pandas as pd\n",
    "import matplotlib.pyplot as plt\n",
    "import seaborn as sns\n",
    "import matplotlib.ticker as ticker\n",
    "\n",
    "from pyspark.sql import SparkSession\n",
    "from pyspark.sql.types import StructType, StructField, StringType, DoubleType, IntegerType, DateType\n",
    "from pyspark.sql.functions import col, sum, countDistinct, count, regexp_replace, split, month, year, size, element_at, struct, trim, avg, expr, lit\n",
    "from pyspark.sql import functions as F\n",
    "from pyspark.sql.window import Window"
   ]
  },
  {
   "cell_type": "code",
   "execution_count": 7,
   "id": "699b2c0b",
   "metadata": {},
   "outputs": [
    {
     "name": "stderr",
     "output_type": "stream",
     "text": [
      "23/09/23 22:47:04 WARN Utils: Your hostname, Karans-MacBook-Pro.local resolves to a loopback address: 127.0.0.1; using 10.22.24.18 instead (on interface en5)\n",
      "23/09/23 22:47:04 WARN Utils: Set SPARK_LOCAL_IP if you need to bind to another address\n",
      "Setting default log level to \"WARN\".\n",
      "To adjust logging level use sc.setLogLevel(newLevel). For SparkR, use setLogLevel(newLevel).\n",
      "23/09/23 22:47:04 WARN NativeCodeLoader: Unable to load native-hadoop library for your platform... using builtin-java classes where applicable\n",
      "23/09/23 22:47:04 WARN Utils: Service 'SparkUI' could not bind on port 4040. Attempting port 4041.\n"
     ]
    }
   ],
   "source": [
    "# Create SparkSession\n",
    "spark = SparkSession.builder \\\n",
    "    .appName(\"AmazonElectronics\") \\\n",
    "    .getOrCreate()"
   ]
  },
  {
   "cell_type": "code",
   "execution_count": 8,
   "id": "34232f23",
   "metadata": {},
   "outputs": [],
   "source": [
    "# Define the schema\n",
    "schema = StructType([\n",
    "    StructField(\"timestamp\", DateType(), True),\n",
    "    StructField(\"asin\", StringType(), True),\n",
    "    StructField(\"brand\", StringType(), True),\n",
    "    StructField(\"buybox_seller\", StringType(), True),\n",
    "    StructField(\"final_price\", StringType(), True),\n",
    "    StructField(\"number_of_sellers\", IntegerType(), True),\n",
    "    StructField(\"root_bs_rank\", IntegerType(), True),\n",
    "    StructField(\"reviews_count\", IntegerType(), True),\n",
    "    StructField(\"ISBN10\", StringType(), True),\n",
    "    StructField(\"currency\", StringType(), True),\n",
    "    StructField(\"image_url\", StringType(), True),\n",
    "    StructField(\"images_count\", IntegerType(), True),\n",
    "    StructField(\"title\", StringType(), True),\n",
    "    StructField(\"url\", StringType(), True),\n",
    "    StructField(\"video_count\", IntegerType(), True),\n",
    "    StructField(\"category_tree\", StringType(), True),\n",
    "    StructField(\"item_weight\", StringType(), True),\n",
    "    StructField(\"rating\", DoubleType(), True),\n",
    "    StructField(\"top_review\", StringType(), True),\n",
    "    StructField(\"seller_id\", StringType(), True),\n",
    "    StructField(\"availability\", StringType(), True),\n",
    "    StructField(\"product_dimensions\", StringType(), True),\n",
    "    StructField(\"discount\", StringType(), True),\n",
    "    StructField(\"initial_price\", StringType(), True),\n",
    "    StructField(\"description\", StringType(), True),\n",
    "    StructField(\"image\", StringType(), True),\n",
    "    StructField(\"answered_questions\", IntegerType(), True),\n",
    "    StructField(\"date_first_available\", StringType(), True),\n",
    "    StructField(\"model_number\", StringType(), True),\n",
    "    StructField(\"manufacturer\", StringType(), True),\n",
    "    StructField(\"department\", StringType(), True),\n",
    "    StructField(\"plus_content\", StringType(), True),\n",
    "    StructField(\"upc\", StringType(), True),\n",
    "    StructField(\"video\", StringType(), True),\n",
    "])"
   ]
  },
  {
   "cell_type": "code",
   "execution_count": 9,
   "id": "d30e9391",
   "metadata": {},
   "outputs": [
    {
     "name": "stdout",
     "output_type": "stream",
     "text": [
      "Shape: 1004 rows and 34 columns\n",
      "Execution Time using PySpark: 1.5912888050079346 seconds\n"
     ]
    }
   ],
   "source": [
    "# Define the file path\n",
    "file_path = '/Users/hipprofessional/Downloads/Amazon products dataset.csv'\n",
    "\n",
    "# Start the timer\n",
    "start_time = time.time()\n",
    "\n",
    "# Read the CSV file into a DataFrame\n",
    "df = spark.read.csv(file_path, schema=schema, header=True, quote='\"', escape='\"')\n",
    "\n",
    "# End the timer\n",
    "end_time = time.time()\n",
    "\n",
    "# Calculate the execution time\n",
    "execution_time = end_time - start_time\n",
    "\n",
    "# Get the number of rows\n",
    "num_rows = df.count()\n",
    "\n",
    "# Get the number of columns\n",
    "num_columns = len(df.columns)\n",
    "\n",
    "# Display the shape\n",
    "print(\"Shape: {} rows and {} columns\".format(num_rows, num_columns))\n",
    "\n",
    "# Print the execution time\n",
    "print(\"Execution Time using PySpark:\", execution_time, \"seconds\")"
   ]
  },
  {
   "attachments": {},
   "cell_type": "markdown",
   "id": "ea40c045",
   "metadata": {},
   "source": [
    "### <font color='green'>Some basic operations</font>"
   ]
  },
  {
   "attachments": {},
   "cell_type": "markdown",
   "id": "e25eb52c",
   "metadata": {},
   "source": [
    "#### <font color='green'>Let's check out our data!</font>"
   ]
  },
  {
   "cell_type": "code",
   "execution_count": 10,
   "id": "d7001f2d",
   "metadata": {},
   "outputs": [],
   "source": [
    "# Displaying a maximum of 34 columns so that we can scroll through our entire dataset horizontally\n",
    "pd.options.display.max_columns = 34"
   ]
  },
  {
   "cell_type": "code",
   "execution_count": null,
   "id": "85c7b78f",
   "metadata": {},
   "outputs": [],
   "source": []
  },
  {
   "cell_type": "code",
   "execution_count": null,
   "id": "b13966f7",
   "metadata": {},
   "outputs": [],
   "source": []
  },
  {
   "cell_type": "code",
   "execution_count": null,
   "id": "8fe33d08",
   "metadata": {},
   "outputs": [],
   "source": []
  },
  {
   "cell_type": "code",
   "execution_count": null,
   "id": "0f662a9c",
   "metadata": {},
   "outputs": [],
   "source": []
  },
  {
   "cell_type": "code",
   "execution_count": null,
   "id": "14915eb0",
   "metadata": {},
   "outputs": [],
   "source": []
  },
  {
   "cell_type": "code",
   "execution_count": 11,
   "id": "db9ff7bc",
   "metadata": {
    "scrolled": false
   },
   "outputs": [
    {
     "name": "stderr",
     "output_type": "stream",
     "text": [
      "23/09/23 22:47:08 WARN package: Truncated the string representation of a plan since it was too large. This behavior can be adjusted by setting 'spark.sql.debug.maxToStringFields'.\n",
      "23/09/23 22:47:08 WARN CSVHeaderChecker: Number of column in CSV header is not equal to number of fields in the schema:\n",
      " Header length: 42, schema size: 34\n",
      "CSV file: file:///Users/hipprofessional/Downloads/Amazon%20products%20dataset.csv\n"
     ]
    },
    {
     "data": {
      "text/html": [
       "<div>\n",
       "<style scoped>\n",
       "    .dataframe tbody tr th:only-of-type {\n",
       "        vertical-align: middle;\n",
       "    }\n",
       "\n",
       "    .dataframe tbody tr th {\n",
       "        vertical-align: top;\n",
       "    }\n",
       "\n",
       "    .dataframe thead th {\n",
       "        text-align: right;\n",
       "    }\n",
       "</style>\n",
       "<table border=\"1\" class=\"dataframe\">\n",
       "  <thead>\n",
       "    <tr style=\"text-align: right;\">\n",
       "      <th></th>\n",
       "      <th>timestamp</th>\n",
       "      <th>asin</th>\n",
       "      <th>brand</th>\n",
       "      <th>buybox_seller</th>\n",
       "      <th>final_price</th>\n",
       "      <th>number_of_sellers</th>\n",
       "      <th>root_bs_rank</th>\n",
       "      <th>reviews_count</th>\n",
       "      <th>ISBN10</th>\n",
       "      <th>currency</th>\n",
       "      <th>image_url</th>\n",
       "      <th>images_count</th>\n",
       "      <th>title</th>\n",
       "      <th>url</th>\n",
       "      <th>video_count</th>\n",
       "      <th>category_tree</th>\n",
       "      <th>item_weight</th>\n",
       "      <th>rating</th>\n",
       "      <th>top_review</th>\n",
       "      <th>seller_id</th>\n",
       "      <th>availability</th>\n",
       "      <th>product_dimensions</th>\n",
       "      <th>discount</th>\n",
       "      <th>initial_price</th>\n",
       "      <th>description</th>\n",
       "      <th>image</th>\n",
       "      <th>answered_questions</th>\n",
       "      <th>date_first_available</th>\n",
       "      <th>model_number</th>\n",
       "      <th>manufacturer</th>\n",
       "      <th>department</th>\n",
       "      <th>plus_content</th>\n",
       "      <th>upc</th>\n",
       "      <th>video</th>\n",
       "    </tr>\n",
       "  </thead>\n",
       "  <tbody>\n",
       "    <tr>\n",
       "      <th>0</th>\n",
       "      <td>2022-10-03</td>\n",
       "      <td>B07W5RF3HH</td>\n",
       "      <td>Kensington</td>\n",
       "      <td>null</td>\n",
       "      <td>$29.49</td>\n",
       "      <td>19</td>\n",
       "      <td>80</td>\n",
       "      <td>114</td>\n",
       "      <td>$</td>\n",
       "      <td>https://m.media-amazon.com/images/I/41HY8rhd7T...</td>\n",
       "      <td>5</td>\n",
       "      <td>NaN</td>\n",
       "      <td>https://www.amazon.com/dp/B07W5RF3HH?language=...</td>\n",
       "      <td>1</td>\n",
       "      <td>NaN</td>\n",
       "      <td>‎4.8 ounces</td>\n",
       "      <td>4.1</td>\n",
       "      <td>NaN</td>\n",
       "      <td>ATVPDKIKX0DER</td>\n",
       "      <td>In Stock.</td>\n",
       "      <td>‎2.5 x 8 x 6.5 inches</td>\n",
       "      <td>null</td>\n",
       "      <td>null</td>\n",
       "      <td>Trust the industry standard to protect your la...</td>\n",
       "      <td>https://m.media-amazon.com/images/I/41HY8rhd7T...</td>\n",
       "      <td>10</td>\n",
       "      <td>NaN</td>\n",
       "      <td>‎K64671AM</td>\n",
       "      <td>‎Kensington</td>\n",
       "      <td>‎Computers and Portables</td>\n",
       "      <td>true</td>\n",
       "      <td>null</td>\n",
       "      <td>true</td>\n",
       "      <td>null</td>\n",
       "    </tr>\n",
       "    <tr>\n",
       "      <th>1</th>\n",
       "      <td>2023-09-10</td>\n",
       "      <td>B0C5J3P4FP</td>\n",
       "      <td>Jzyliti</td>\n",
       "      <td>Chumgap</td>\n",
       "      <td>9.99</td>\n",
       "      <td>1</td>\n",
       "      <td>1231</td>\n",
       "      <td>210</td>\n",
       "      <td>USD</td>\n",
       "      <td>https://m.media-amazon.com/images/I/519kCtmSNM...</td>\n",
       "      <td>1</td>\n",
       "      <td>NaN</td>\n",
       "      <td>https://www.amazon.com/Electricity-Saving-Hous...</td>\n",
       "      <td>0</td>\n",
       "      <td>NaN</td>\n",
       "      <td>6.1 ounces</td>\n",
       "      <td>3.7</td>\n",
       "      <td>NaN</td>\n",
       "      <td>A1M00XH600DFT1</td>\n",
       "      <td>In Stock</td>\n",
       "      <td>5.55 x 2.8 x 2.6 inches</td>\n",
       "      <td>-17%</td>\n",
       "      <td>12</td>\n",
       "      <td>About this item Energy saving: The function of...</td>\n",
       "      <td>https://m.media-amazon.com/images/I/519kCtmSNM...</td>\n",
       "      <td>0</td>\n",
       "      <td>NaN</td>\n",
       "      <td>null</td>\n",
       "      <td>Jzyliti</td>\n",
       "      <td>null</td>\n",
       "      <td>true</td>\n",
       "      <td>null</td>\n",
       "      <td>false</td>\n",
       "      <td>Chumgap</td>\n",
       "    </tr>\n",
       "    <tr>\n",
       "      <th>2</th>\n",
       "      <td>2023-09-10</td>\n",
       "      <td>B0BC3Y5LDP</td>\n",
       "      <td>Tamispit</td>\n",
       "      <td>Sienfix_Store</td>\n",
       "      <td>29.99</td>\n",
       "      <td>2</td>\n",
       "      <td>2132</td>\n",
       "      <td>2087</td>\n",
       "      <td>USD</td>\n",
       "      <td>https://m.media-amazon.com/images/I/61SPoXa5gt...</td>\n",
       "      <td>1</td>\n",
       "      <td>NaN</td>\n",
       "      <td>https://www.amazon.com/tamispit-Swimming-Water...</td>\n",
       "      <td>0</td>\n",
       "      <td>NaN</td>\n",
       "      <td>2.39 ounces</td>\n",
       "      <td>4</td>\n",
       "      <td>NaN</td>\n",
       "      <td>A3OJDUALT76EMY</td>\n",
       "      <td>In Stock</td>\n",
       "      <td>5.5 x 0.5 x 3.5 inches</td>\n",
       "      <td>-40%</td>\n",
       "      <td>49.99</td>\n",
       "      <td>About this item 【Multi-Function Smart Watch】: ...</td>\n",
       "      <td>https://m.media-amazon.com/images/I/61SPoXa5gt...</td>\n",
       "      <td>0</td>\n",
       "      <td>NaN</td>\n",
       "      <td>null</td>\n",
       "      <td>tamispit</td>\n",
       "      <td>Unisex Adult</td>\n",
       "      <td>false</td>\n",
       "      <td>null</td>\n",
       "      <td>false</td>\n",
       "      <td>Sienfix_Store</td>\n",
       "    </tr>\n",
       "    <tr>\n",
       "      <th>3</th>\n",
       "      <td>2023-09-10</td>\n",
       "      <td>B0C8SGDRX5</td>\n",
       "      <td>DYEYOY</td>\n",
       "      <td>DYEYOY USA</td>\n",
       "      <td>29.99</td>\n",
       "      <td>1</td>\n",
       "      <td>4431</td>\n",
       "      <td>1319</td>\n",
       "      <td>USD</td>\n",
       "      <td>https://m.media-amazon.com/images/I/71pRaqeCNJ...</td>\n",
       "      <td>1</td>\n",
       "      <td>NaN</td>\n",
       "      <td>https://www.amazon.com/Cartridges-Compatible-R...</td>\n",
       "      <td>0</td>\n",
       "      <td>NaN</td>\n",
       "      <td>6.4 ounces</td>\n",
       "      <td>4.4</td>\n",
       "      <td>NaN</td>\n",
       "      <td>A20EBBGLBGFXAW</td>\n",
       "      <td>In Stock</td>\n",
       "      <td>4.53 x 3.15 x 2.28 inches</td>\n",
       "      <td>$6.00 (17%)</td>\n",
       "      <td>35.99</td>\n",
       "      <td>About this item 🖨️Compatible Printer: OfficeJe...</td>\n",
       "      <td>https://m.media-amazon.com/images/I/71pRaqeCNJ...</td>\n",
       "      <td>0</td>\n",
       "      <td>NaN</td>\n",
       "      <td>951</td>\n",
       "      <td>DYEYOY</td>\n",
       "      <td>null</td>\n",
       "      <td>false</td>\n",
       "      <td>null</td>\n",
       "      <td>false</td>\n",
       "      <td>DYEYOY USA</td>\n",
       "    </tr>\n",
       "    <tr>\n",
       "      <th>4</th>\n",
       "      <td>2023-08-22</td>\n",
       "      <td>B08F6T1CJ7</td>\n",
       "      <td>HP</td>\n",
       "      <td>Amazon.com</td>\n",
       "      <td>699</td>\n",
       "      <td>5</td>\n",
       "      <td>9118</td>\n",
       "      <td>487</td>\n",
       "      <td>USD</td>\n",
       "      <td>https://m.media-amazon.com/images/I/81sJcFP6mA...</td>\n",
       "      <td>1</td>\n",
       "      <td>NaN</td>\n",
       "      <td>https://www.amazon.com/HP-DesignJet-Compact-Wi...</td>\n",
       "      <td>0</td>\n",
       "      <td>NaN</td>\n",
       "      <td>47 pounds</td>\n",
       "      <td>4.4</td>\n",
       "      <td>NaN</td>\n",
       "      <td>ATVPDKIKX0DER</td>\n",
       "      <td>In Stock</td>\n",
       "      <td>11 x 40 x 17 inches</td>\n",
       "      <td>-13%</td>\n",
       "      <td>699</td>\n",
       "      <td>IDEAL FOR: Technical line-drawings, renders re...</td>\n",
       "      <td>https://m.media-amazon.com/images/I/81sJcFP6mA...</td>\n",
       "      <td>0</td>\n",
       "      <td>NaN</td>\n",
       "      <td>8AG32A#B1K</td>\n",
       "      <td>HP DesignJet</td>\n",
       "      <td>null</td>\n",
       "      <td>false</td>\n",
       "      <td>null</td>\n",
       "      <td>false</td>\n",
       "      <td>Amazon.com</td>\n",
       "    </tr>\n",
       "    <tr>\n",
       "      <th>5</th>\n",
       "      <td>2023-09-10</td>\n",
       "      <td>B07Z6CSMKM</td>\n",
       "      <td>GEEKRIA</td>\n",
       "      <td>GeekriaDirect</td>\n",
       "      <td>15.95</td>\n",
       "      <td>4</td>\n",
       "      <td>100655</td>\n",
       "      <td>60</td>\n",
       "      <td>USD</td>\n",
       "      <td>https://m.media-amazon.com/images/I/71qeeQjVWk...</td>\n",
       "      <td>1</td>\n",
       "      <td>NaN</td>\n",
       "      <td>https://www.amazon.com/UltraShell-Cancelling-H...</td>\n",
       "      <td>0</td>\n",
       "      <td>NaN</td>\n",
       "      <td>5.6 ounces</td>\n",
       "      <td>4.4</td>\n",
       "      <td>NaN</td>\n",
       "      <td>A2OPUAQVSPCTA3</td>\n",
       "      <td>Only 9 left in stock - order soon</td>\n",
       "      <td>6.69 x 5.91 x 3.74 inches</td>\n",
       "      <td>-10%</td>\n",
       "      <td>17.75</td>\n",
       "      <td>Product Features Maximum compatible headphone ...</td>\n",
       "      <td>https://m.media-amazon.com/images/I/71qeeQjVWk...</td>\n",
       "      <td>0</td>\n",
       "      <td>NaN</td>\n",
       "      <td>EJB108-01</td>\n",
       "      <td>GEEKRIA</td>\n",
       "      <td>null</td>\n",
       "      <td>false</td>\n",
       "      <td>null</td>\n",
       "      <td>false</td>\n",
       "      <td>GeekriaDirect</td>\n",
       "    </tr>\n",
       "  </tbody>\n",
       "</table>\n",
       "</div>"
      ],
      "text/plain": [
       "    timestamp        asin       brand  buybox_seller final_price  \\\n",
       "0  2022-10-03  B07W5RF3HH  Kensington           null      $29.49   \n",
       "1  2023-09-10  B0C5J3P4FP     Jzyliti        Chumgap        9.99   \n",
       "2  2023-09-10  B0BC3Y5LDP    Tamispit  Sienfix_Store       29.99   \n",
       "3  2023-09-10  B0C8SGDRX5      DYEYOY     DYEYOY USA       29.99   \n",
       "4  2023-08-22  B08F6T1CJ7          HP     Amazon.com         699   \n",
       "5  2023-09-10  B07Z6CSMKM     GEEKRIA  GeekriaDirect       15.95   \n",
       "\n",
       "   number_of_sellers  root_bs_rank  reviews_count ISBN10  \\\n",
       "0                 19            80            114      $   \n",
       "1                  1          1231            210    USD   \n",
       "2                  2          2132           2087    USD   \n",
       "3                  1          4431           1319    USD   \n",
       "4                  5          9118            487    USD   \n",
       "5                  4        100655             60    USD   \n",
       "\n",
       "                                            currency image_url  images_count  \\\n",
       "0  https://m.media-amazon.com/images/I/41HY8rhd7T...         5           NaN   \n",
       "1  https://m.media-amazon.com/images/I/519kCtmSNM...         1           NaN   \n",
       "2  https://m.media-amazon.com/images/I/61SPoXa5gt...         1           NaN   \n",
       "3  https://m.media-amazon.com/images/I/71pRaqeCNJ...         1           NaN   \n",
       "4  https://m.media-amazon.com/images/I/81sJcFP6mA...         1           NaN   \n",
       "5  https://m.media-amazon.com/images/I/71qeeQjVWk...         1           NaN   \n",
       "\n",
       "                                               title url  video_count  \\\n",
       "0  https://www.amazon.com/dp/B07W5RF3HH?language=...   1          NaN   \n",
       "1  https://www.amazon.com/Electricity-Saving-Hous...   0          NaN   \n",
       "2  https://www.amazon.com/tamispit-Swimming-Water...   0          NaN   \n",
       "3  https://www.amazon.com/Cartridges-Compatible-R...   0          NaN   \n",
       "4  https://www.amazon.com/HP-DesignJet-Compact-Wi...   0          NaN   \n",
       "5  https://www.amazon.com/UltraShell-Cancelling-H...   0          NaN   \n",
       "\n",
       "  category_tree item_weight  rating      top_review  \\\n",
       "0   ‎4.8 ounces         4.1     NaN   ATVPDKIKX0DER   \n",
       "1    6.1 ounces         3.7     NaN  A1M00XH600DFT1   \n",
       "2   2.39 ounces           4     NaN  A3OJDUALT76EMY   \n",
       "3    6.4 ounces         4.4     NaN  A20EBBGLBGFXAW   \n",
       "4     47 pounds         4.4     NaN   ATVPDKIKX0DER   \n",
       "5    5.6 ounces         4.4     NaN  A2OPUAQVSPCTA3   \n",
       "\n",
       "                           seller_id               availability  \\\n",
       "0                          In Stock.      ‎2.5 x 8 x 6.5 inches   \n",
       "1                           In Stock    5.55 x 2.8 x 2.6 inches   \n",
       "2                           In Stock     5.5 x 0.5 x 3.5 inches   \n",
       "3                           In Stock  4.53 x 3.15 x 2.28 inches   \n",
       "4                           In Stock        11 x 40 x 17 inches   \n",
       "5  Only 9 left in stock - order soon  6.69 x 5.91 x 3.74 inches   \n",
       "\n",
       "  product_dimensions discount  \\\n",
       "0               null     null   \n",
       "1               -17%       12   \n",
       "2               -40%    49.99   \n",
       "3        $6.00 (17%)    35.99   \n",
       "4               -13%      699   \n",
       "5               -10%    17.75   \n",
       "\n",
       "                                       initial_price  \\\n",
       "0  Trust the industry standard to protect your la...   \n",
       "1  About this item Energy saving: The function of...   \n",
       "2  About this item 【Multi-Function Smart Watch】: ...   \n",
       "3  About this item 🖨️Compatible Printer: OfficeJe...   \n",
       "4  IDEAL FOR: Technical line-drawings, renders re...   \n",
       "5  Product Features Maximum compatible headphone ...   \n",
       "\n",
       "                                         description image  \\\n",
       "0  https://m.media-amazon.com/images/I/41HY8rhd7T...    10   \n",
       "1  https://m.media-amazon.com/images/I/519kCtmSNM...     0   \n",
       "2  https://m.media-amazon.com/images/I/61SPoXa5gt...     0   \n",
       "3  https://m.media-amazon.com/images/I/71pRaqeCNJ...     0   \n",
       "4  https://m.media-amazon.com/images/I/81sJcFP6mA...     0   \n",
       "5  https://m.media-amazon.com/images/I/71qeeQjVWk...     0   \n",
       "\n",
       "   answered_questions date_first_available  model_number  \\\n",
       "0                 NaN            ‎K64671AM   ‎Kensington   \n",
       "1                 NaN                 null       Jzyliti   \n",
       "2                 NaN                 null      tamispit   \n",
       "3                 NaN                  951        DYEYOY   \n",
       "4                 NaN           8AG32A#B1K  HP DesignJet   \n",
       "5                 NaN            EJB108-01       GEEKRIA   \n",
       "\n",
       "               manufacturer department plus_content    upc          video  \n",
       "0  ‎Computers and Portables       true         null   true           null  \n",
       "1                      null       true         null  false        Chumgap  \n",
       "2              Unisex Adult      false         null  false  Sienfix_Store  \n",
       "3                      null      false         null  false     DYEYOY USA  \n",
       "4                      null      false         null  false     Amazon.com  \n",
       "5                      null      false         null  false  GeekriaDirect  "
      ]
     },
     "execution_count": 11,
     "metadata": {},
     "output_type": "execute_result"
    }
   ],
   "source": [
    "# Checking out the first 3 rows of the dataframe\n",
    "df.limit(6).toPandas()"
   ]
  },
  {
   "cell_type": "code",
   "execution_count": null,
   "id": "0c6dacf0",
   "metadata": {},
   "outputs": [],
   "source": []
  },
  {
   "cell_type": "code",
   "execution_count": null,
   "id": "ec190615",
   "metadata": {},
   "outputs": [],
   "source": []
  },
  {
   "cell_type": "code",
   "execution_count": null,
   "id": "594539ad",
   "metadata": {},
   "outputs": [],
   "source": []
  },
  {
   "cell_type": "code",
   "execution_count": null,
   "id": "84bf6533",
   "metadata": {},
   "outputs": [],
   "source": []
  },
  {
   "cell_type": "code",
   "execution_count": null,
   "id": "09822cdc",
   "metadata": {},
   "outputs": [],
   "source": []
  },
  {
   "cell_type": "code",
   "execution_count": 12,
   "id": "7c3dbeab",
   "metadata": {},
   "outputs": [
    {
     "name": "stderr",
     "output_type": "stream",
     "text": [
      "23/09/23 22:47:08 WARN CSVHeaderChecker: Number of column in CSV header is not equal to number of fields in the schema:\n",
      " Header length: 42, schema size: 34\n",
      "CSV file: file:///Users/hipprofessional/Downloads/Amazon%20products%20dataset.csv\n"
     ]
    },
    {
     "data": {
      "text/plain": [
       "[Row(timestamp=datetime.date(2022, 10, 3), asin='B07W5RF3HH', brand='Kensington', buybox_seller='null', final_price='$29.49', number_of_sellers=19, root_bs_rank=80, reviews_count=114, ISBN10='$', currency='https://m.media-amazon.com/images/I/41HY8rhd7TL.__AC_SX300_SY300_QL70_FMwebp_.jpg', image_url='5', images_count=None, title='https://www.amazon.com/dp/B07W5RF3HH?language=en_US&currency=USD', url='1', video_count=None, category_tree='\\u200e4.8 ounces', item_weight='4.1', rating=None, top_review='ATVPDKIKX0DER', seller_id='In Stock.', availability='\\u200e2.5 x 8 x 6.5 inches', product_dimensions='null', discount='null', initial_price='Trust the industry standard to protect your laptop and the private information that’s on it. The Kensington Portable Combination Laptop Lock offers one-handed engagement, as T-Bar locking technology easily attaches to the Kensington Security Slot found on most laptops. The 4-wheel number code can be set to any of 10,000 possible combinations and is resettable.', description='https://m.media-amazon.com/images/I/41HY8rhd7TL.__AC_SX300_SY300_QL70_FMwebp_.jpg', image='10', answered_questions=None, date_first_available='\\u200eK64671AM', model_number='\\u200eKensington', manufacturer='\\u200eComputers and Portables', department='true', plus_content='null', upc='true', video='null'),\n",
       " Row(timestamp=datetime.date(2023, 9, 10), asin='B0C5J3P4FP', brand='Jzyliti', buybox_seller='Chumgap', final_price='9.99', number_of_sellers=1, root_bs_rank=1231, reviews_count=210, ISBN10='USD', currency='https://m.media-amazon.com/images/I/519kCtmSNML.__AC_SX300_SY300_QL70_FMwebp_.jpg', image_url='1', images_count=None, title='https://www.amazon.com/Electricity-Saving-Household-Electric-90V-250V/dp/B0C5J3P4FP', url='0', video_count=None, category_tree='6.1 ounces', item_weight='3.7', rating=None, top_review='A1M00XH600DFT1', seller_id='In Stock', availability='5.55 x 2.8 x 2.6 inches', product_dimensions='-17%', discount='12', initial_price='About this item Energy saving: The function of the power saving box is to stabilize voltage, balance current, and surge protection, in order to achieve the effect of power saving. Power savers can also improve the use of electrical power, and avoid ineffective power waste, thus extending the service life of electrical products. Safe and reliable: power-saving box works under rated load, use of a capacitance system to store its electric energy more smoothly released to normal, with no peak, and the power saver shell with advanced fireproof and explosion-proof materials, internal leakage protection measures, safe and reliable. The longer you use your power saver, the better. The power saver itself uses almost no energy, so you can use it to save energy on appliances like refrigerators, air conditioners, and TVs. Even if it runs 24 hours a day for 365 days, it will not increase the cost of electricity. Super easy to use: Just plug the power factor saver into the power outlet, the green light will light up, and then start working by keeping the device connected; It will reduce your power consumption, effectively saving up to 20 to 35 percent for heavy-duty power consumption. The power savings of the energy saver should be visible within a month! Scope of application: In air conditioning, washing machines, refrigerators, water pumps, induction stoves, electric kettles, and other equipment, we can see the advantages of this electricity killer, when normal operation under a rated load, can prevent appliances from overheating. But for some small appliances, such as electric fans, LED bulbs, and so on, there is no benefit of saving electricity.', description='https://m.media-amazon.com/images/I/519kCtmSNML.__AC_SX300_SY300_QL70_FMwebp_.jpg', image='0', answered_questions=None, date_first_available='null', model_number='Jzyliti', manufacturer='null', department='true', plus_content='null', upc='false', video='Chumgap'),\n",
       " Row(timestamp=datetime.date(2023, 9, 10), asin='B0BC3Y5LDP', brand='Tamispit', buybox_seller='Sienfix_Store', final_price='29.99', number_of_sellers=2, root_bs_rank=2132, reviews_count=2087, ISBN10='USD', currency='https://m.media-amazon.com/images/I/61SPoXa5gtL.__AC_SX300_SY300_QL70_FMwebp_.jpg', image_url='1', images_count=None, title='https://www.amazon.com/tamispit-Swimming-Waterproof-Touchscreen-Smartwatch/dp/B0BC3Y5LDP', url='0', video_count=None, category_tree='2.39 ounces', item_weight='4', rating=None, top_review='A3OJDUALT76EMY', seller_id='In Stock', availability='5.5 x 0.5 x 3.5 inches', product_dimensions='-40%', discount='49.99', initial_price='About this item 【Multi-Function Smart Watch】: The Q9 PRO smartwatch fitness tracker can provide all-around body data tracking, .allowing you to accurately track 24-hour bady data and stress levels. Automatically monitor your sleep (Deep sleep, Light sleep, Awake time)to tell you how long you sleep during the night. sleep, Light sleep, Awake time)to tell you how long you sleep during the night. Wekiodum 【24 Sports Modes & 5 Atm Waterproof】: This fitness watch features 24 sports modes to check all-day activity data like steps, distance. Water-resistant up to 50 meters, you can wear the fitness tracker for swimming, and it will record your achievements even underwater.Wekiodum 【Smart Notifications】: Stay connected with calls, text, other app notifications, and convenient tools like timer, stopwatch, wrist sense, DND mode, find phone, sedentary reminder, music control, and weather display. Impressive 7-day battery life between a 2h flash charge, you can relax and enjoy more than a week of travel or work. The smart watch can stand by for up to 45 days when not in use.Wekiodum 【Smartwatches For Android IOS Phones】: The sports watch is compatible with iOS 8.0 and Android 4.4 and above devices. H-BEST HOME XDRSFJWDownload and install the Free \"GloryFit\" APP, bind this smartwatch to your cell phone, and you can receive alerts of the SMS, incoming calls, and SNS. Wekiodum 【Personalized Custom Dial】: Immerse yourself in the 1.7\" super-large and colorful HD display, and see all your incoming text and calls in expansive quality. Express more of yourself with 200+ watch faces and editable watch faces & widgets - or customize with your photos. Wekiodum', description='https://m.media-amazon.com/images/I/61SPoXa5gtL.__AC_SX300_SY300_QL70_FMwebp_.jpg', image='0', answered_questions=None, date_first_available='null', model_number='tamispit', manufacturer='Unisex Adult', department='false', plus_content='null', upc='false', video='Sienfix_Store'),\n",
       " Row(timestamp=datetime.date(2023, 9, 10), asin='B0C8SGDRX5', brand='DYEYOY', buybox_seller='DYEYOY USA', final_price='29.99', number_of_sellers=1, root_bs_rank=4431, reviews_count=1319, ISBN10='USD', currency='https://m.media-amazon.com/images/I/71pRaqeCNJL.__AC_SX300_SY300_QL70_FMwebp_.jpg', image_url='1', images_count=None, title='https://www.amazon.com/Cartridges-Compatible-Replacement-OfficeJet-Magenta/dp/B0C8SGDRX5', url='0', video_count=None, category_tree='6.4 ounces', item_weight='4.4', rating=None, top_review='A20EBBGLBGFXAW', seller_id='In Stock', availability='4.53 x 3.15 x 2.28 inches', product_dimensions='$6.00 (17%)', discount='35.99', initial_price='About this item 🖨️Compatible Printer: OfficeJet Pro 251dw 276dw, 8100, 8600, 8600 Plus, 8600 Premium, 8600 Series, 8610, 8615, 8620, 8625, 8630 📇High Yield 951XL Ink Cartridges: 700 pages in Cyan/Magenta/Yellow 📇Sealed Packaging: Prevent ink leakage 📇Premium inks deliver crisp text and graphics 📦Includes: 1 x User Guide, 1 x Cyan 951XL, 1 x Magenta 951XL, 1 x Yellow 951XL (3 combo pack) 🏠Suitable for Home, Office, School, Bank 🫶Reply within 12 hours: 2 years warranty, If you have any question, please contact us via Amazon. DYEYOY after-sales customer service will reply you within 12 hours.', description='https://m.media-amazon.com/images/I/71pRaqeCNJL.__AC_SX300_SY300_QL70_FMwebp_.jpg', image='0', answered_questions=None, date_first_available='951', model_number='DYEYOY', manufacturer='null', department='false', plus_content='null', upc='false', video='DYEYOY USA'),\n",
       " Row(timestamp=datetime.date(2023, 8, 22), asin='B08F6T1CJ7', brand='HP', buybox_seller='Amazon.com', final_price='699', number_of_sellers=5, root_bs_rank=9118, reviews_count=487, ISBN10='USD', currency='https://m.media-amazon.com/images/I/81sJcFP6mAL.__AC_SY300_SX300_QL70_ML2_.jpg', image_url='1', images_count=None, title='https://www.amazon.com/HP-DesignJet-Compact-Wireless-Plotter/dp/B08F6T1CJ7', url='0', video_count=None, category_tree='47 pounds', item_weight='4.4', rating=None, top_review='ATVPDKIKX0DER', seller_id='In Stock', availability='11 x 40 x 17 inches', product_dimensions='-13%', discount='699', initial_price=\"IDEAL FOR: Technical line-drawings, renders requiring precise, accurate line-quality and crisp text, posters, and detailed map prints. This printer is popular among architects, engineers, geographic firms, and construction professionals. CREATE PROFESSIONAL POSTERS: Design beautiful, professional quality posters for free. No graphic design experience required to produce beautiful high resolution posters in minutes. Choose from professionally designed templates or millions of free and premium photos, vector graphics or pattern designs. Connect your digital and physical worlds with a variety of rich, interactive digital experiences with HP LinkReader. Create and print directly to your HP Large Format printer with HP Click software (included) or integrate into your RIP software workflow. DESIGNED AROUND YOU: Avoid waiting by the printer with high-speed printing as fast as 45 seconds per A1/D plot. Be more productive—save time from job prep to final print by printing your projects up to 2x faster. Print your jobs and manage your plotter from virtually anywhere, anytime with the HP Smart app. Get high-quality results—HP Bright Office Inks plot up to 31% more line accuracy and up to 65% more gamut. Print with confidence, you'll get the results you expect with an intuitive driver and true print preview. FITS YOUR OFFICE & BUDGET: Save space with the world's smallest plotters designed to fit your office. Uses up to 95% less ink for routine maintenance vs. some competitor plotter printers. MEDIA SIZES: Up to 24-inch wide media rolls (large format), and up to 13-inch by 19-inch sheets (wide format) using the included automatic sheet feeder accessory. MEDIA HANDLING: Sheet feed, roll feed, automatic sheet/roll switch, automatic horizontal cutter. CONNECTIVITY: Gigabit Ethernet (1000Base-T), Hi-Speed USB 2.0, Wi-Fi Direct, Wi-Fi 802.11 b/g/n. PRINT SPEED & RAM: Up to 45 seconds per page on A1/D size, 59 A1/D size prints per hour. 500 MB onboard memory. SOFTWARE: HP Click (easy-to-use job submittal & poster creation tools), HP Smart app (print and share files from anywhere including smartphones, tablets, and desktop computers), HP Print Preview for Windows, HP Easy Start, HP DesignJet Utility for Windows, HP Support Assistant. ECO FRIENDLY: Features a more sustainable design which reduces CO2 emissions up to 7.3 tons/year by using up to 30% recycled plastic during the manufacturing process. WHAT'S IN THE BOX: HP DesignJet T210 24-inch printer, printhead, introductory ink cartridges, spindle, quick reference guide, setup poster, power cord.\", description='https://m.media-amazon.com/images/I/81sJcFP6mAL.__AC_SY300_SX300_QL70_ML2_.jpg', image='0', answered_questions=None, date_first_available='8AG32A#B1K', model_number='HP DesignJet', manufacturer='null', department='false', plus_content='null', upc='false', video='Amazon.com'),\n",
       " Row(timestamp=datetime.date(2023, 9, 10), asin='B07Z6CSMKM', brand='GEEKRIA', buybox_seller='GeekriaDirect', final_price='15.95', number_of_sellers=4, root_bs_rank=100655, reviews_count=60, ISBN10='USD', currency='https://m.media-amazon.com/images/I/71qeeQjVWkL.__AC_SX300_SY300_QL70_FMwebp_.jpg', image_url='1', images_count=None, title='https://www.amazon.com/UltraShell-Cancelling-Headphones-Replacement-Protective/dp/B07Z6CSMKM', url='0', video_count=None, category_tree='5.6 ounces', item_weight='4.4', rating=None, top_review='A2OPUAQVSPCTA3', seller_id='Only 9 left in stock - order soon', availability='6.69 x 5.91 x 3.74 inches', product_dimensions='-10%', discount='17.75', initial_price=\"Product Features Maximum compatible headphone dimensions (inside): 7 x 5Â¾ x 3Â¾ inches (18 x 14.5 x 9.5 cm). Compatible with many wired / wireless headphones. Engineered ultra-hard shell protects against drops, impacts or crushes. Soft inner maximize headphones protective in the case. Internal mesh pocket conveniently stores cables, cords, chargers, AMP, earpads, adapters and other accessories. Compatible with Beats Studio3.0 Wireless, Studio2.0, Studio, Solo Pro, Monster Diamond Tears case. A good replacement or upgrade of the original headphones case. If the case doesn't fit or break within one year, Geekria will replace or refund. No question asked. Product DescriptionProtect your over ear or on-ear headphones with a hard shell headphone case from Geekria! Compatible Models (not limited to): - Compatible with Beats Studio 3.0 Wireless case - Compatible with Beats Studio 2.0, Studio case - Compatible with Beats Solo Pro Wireless case - Compatible with Monster Diamond Tears case And many other headphones. Note: - Headphones carrying case only, headphone is not included.\", description='https://m.media-amazon.com/images/I/71qeeQjVWkL.__AC_SX300_SY300_QL70_FMwebp_.jpg', image='0', answered_questions=None, date_first_available='EJB108-01', model_number='GEEKRIA', manufacturer='null', department='false', plus_content='null', upc='false', video='GeekriaDirect')]"
      ]
     },
     "execution_count": 12,
     "metadata": {},
     "output_type": "execute_result"
    }
   ],
   "source": [
    "df.limit(6).collect()"
   ]
  },
  {
   "cell_type": "code",
   "execution_count": null,
   "id": "488e755f",
   "metadata": {},
   "outputs": [],
   "source": []
  },
  {
   "cell_type": "code",
   "execution_count": null,
   "id": "78729261",
   "metadata": {},
   "outputs": [],
   "source": []
  },
  {
   "cell_type": "code",
   "execution_count": null,
   "id": "d869c951",
   "metadata": {},
   "outputs": [],
   "source": []
  },
  {
   "cell_type": "code",
   "execution_count": null,
   "id": "0c2991b0",
   "metadata": {},
   "outputs": [],
   "source": []
  },
  {
   "cell_type": "code",
   "execution_count": null,
   "id": "ac87335e",
   "metadata": {},
   "outputs": [],
   "source": []
  },
  {
   "cell_type": "code",
   "execution_count": 13,
   "id": "6b30ce1f",
   "metadata": {},
   "outputs": [
    {
     "name": "stderr",
     "output_type": "stream",
     "text": [
      "23/09/23 22:47:08 WARN CSVHeaderChecker: CSV header does not conform to the schema.\n",
      " Header: brand, title, url, categories\n",
      " Schema: brand, images_count, title, video_count\n",
      "Expected: images_count but found: title\n",
      "CSV file: file:///Users/hipprofessional/Downloads/Amazon%20products%20dataset.csv\n"
     ]
    },
    {
     "data": {
      "text/html": [
       "<div>\n",
       "<style scoped>\n",
       "    .dataframe tbody tr th:only-of-type {\n",
       "        vertical-align: middle;\n",
       "    }\n",
       "\n",
       "    .dataframe tbody tr th {\n",
       "        vertical-align: top;\n",
       "    }\n",
       "\n",
       "    .dataframe thead th {\n",
       "        text-align: right;\n",
       "    }\n",
       "</style>\n",
       "<table border=\"1\" class=\"dataframe\">\n",
       "  <thead>\n",
       "    <tr style=\"text-align: right;\">\n",
       "      <th></th>\n",
       "      <th>brand</th>\n",
       "      <th>title</th>\n",
       "      <th>images_count</th>\n",
       "      <th>video_count</th>\n",
       "    </tr>\n",
       "  </thead>\n",
       "  <tbody>\n",
       "    <tr>\n",
       "      <th>0</th>\n",
       "      <td>Kensington</td>\n",
       "      <td>https://www.amazon.com/dp/B07W5RF3HH?language=...</td>\n",
       "      <td>NaN</td>\n",
       "      <td>NaN</td>\n",
       "    </tr>\n",
       "    <tr>\n",
       "      <th>1</th>\n",
       "      <td>Jzyliti</td>\n",
       "      <td>https://www.amazon.com/Electricity-Saving-Hous...</td>\n",
       "      <td>NaN</td>\n",
       "      <td>NaN</td>\n",
       "    </tr>\n",
       "    <tr>\n",
       "      <th>2</th>\n",
       "      <td>Tamispit</td>\n",
       "      <td>https://www.amazon.com/tamispit-Swimming-Water...</td>\n",
       "      <td>NaN</td>\n",
       "      <td>NaN</td>\n",
       "    </tr>\n",
       "    <tr>\n",
       "      <th>3</th>\n",
       "      <td>DYEYOY</td>\n",
       "      <td>https://www.amazon.com/Cartridges-Compatible-R...</td>\n",
       "      <td>NaN</td>\n",
       "      <td>NaN</td>\n",
       "    </tr>\n",
       "    <tr>\n",
       "      <th>4</th>\n",
       "      <td>HP</td>\n",
       "      <td>https://www.amazon.com/HP-DesignJet-Compact-Wi...</td>\n",
       "      <td>NaN</td>\n",
       "      <td>NaN</td>\n",
       "    </tr>\n",
       "  </tbody>\n",
       "</table>\n",
       "</div>"
      ],
      "text/plain": [
       "        brand                                              title  \\\n",
       "0  Kensington  https://www.amazon.com/dp/B07W5RF3HH?language=...   \n",
       "1     Jzyliti  https://www.amazon.com/Electricity-Saving-Hous...   \n",
       "2    Tamispit  https://www.amazon.com/tamispit-Swimming-Water...   \n",
       "3      DYEYOY  https://www.amazon.com/Cartridges-Compatible-R...   \n",
       "4          HP  https://www.amazon.com/HP-DesignJet-Compact-Wi...   \n",
       "\n",
       "   images_count  video_count  \n",
       "0           NaN          NaN  \n",
       "1           NaN          NaN  \n",
       "2           NaN          NaN  \n",
       "3           NaN          NaN  \n",
       "4           NaN          NaN  "
      ]
     },
     "execution_count": 13,
     "metadata": {},
     "output_type": "execute_result"
    }
   ],
   "source": [
    "# Selecting specific columns only\n",
    "df.select('brand', 'title', 'images_count', 'video_count').limit(5).toPandas()"
   ]
  },
  {
   "cell_type": "code",
   "execution_count": null,
   "id": "e624ec35",
   "metadata": {},
   "outputs": [],
   "source": []
  },
  {
   "cell_type": "code",
   "execution_count": null,
   "id": "740744a5",
   "metadata": {},
   "outputs": [],
   "source": []
  },
  {
   "cell_type": "code",
   "execution_count": null,
   "id": "440fd3c6",
   "metadata": {},
   "outputs": [],
   "source": []
  },
  {
   "cell_type": "code",
   "execution_count": null,
   "id": "c81a07c2",
   "metadata": {},
   "outputs": [],
   "source": []
  },
  {
   "cell_type": "code",
   "execution_count": null,
   "id": "d134ff1f",
   "metadata": {},
   "outputs": [],
   "source": []
  },
  {
   "cell_type": "code",
   "execution_count": 14,
   "id": "8e8d8a80",
   "metadata": {},
   "outputs": [
    {
     "data": {
      "text/plain": [
       "1002"
      ]
     },
     "execution_count": 14,
     "metadata": {},
     "output_type": "execute_result"
    }
   ],
   "source": [
    "# Checking that the asin (Amazon Standard Identification Number) is unique\n",
    "# The collect() method returns a list of rows, [0] is used to access the first row in the list, \n",
    "# and [0] again is used to access the first element (the count of distinct values) in that row.\n",
    "df.agg(countDistinct(\"asin\")).collect()[0][0]"
   ]
  },
  {
   "cell_type": "code",
   "execution_count": null,
   "id": "6b85a252",
   "metadata": {},
   "outputs": [],
   "source": []
  },
  {
   "cell_type": "code",
   "execution_count": null,
   "id": "74fc1ad6",
   "metadata": {},
   "outputs": [],
   "source": []
  },
  {
   "cell_type": "code",
   "execution_count": null,
   "id": "79e3fea4",
   "metadata": {},
   "outputs": [],
   "source": []
  },
  {
   "cell_type": "code",
   "execution_count": null,
   "id": "90ef39be",
   "metadata": {},
   "outputs": [],
   "source": []
  },
  {
   "cell_type": "code",
   "execution_count": null,
   "id": "f4abe7c0",
   "metadata": {},
   "outputs": [],
   "source": []
  },
  {
   "cell_type": "code",
   "execution_count": 15,
   "id": "5a21eb4b",
   "metadata": {},
   "outputs": [
    {
     "name": "stdout",
     "output_type": "stream",
     "text": [
      "CodeCache: size=131072Kb used=22429Kb max_used=22443Kb free=108642Kb\n",
      " bounds [0x000000010a9d8000, 0x000000010bff8000, 0x00000001129d8000]\n",
      " total_blobs=9052 nmethods=8110 adapters=855\n",
      " compilation: disabled (not enough contiguous free space left)\n"
     ]
    },
    {
     "name": "stderr",
     "output_type": "stream",
     "text": [
      "Java HotSpot(TM) 64-Bit Server VM warning: CodeCache is full. Compiler has been disabled.\n",
      "Java HotSpot(TM) 64-Bit Server VM warning: Try increasing the code cache size using -XX:ReservedCodeCacheSize=\n"
     ]
    },
    {
     "data": {
      "text/plain": [
       "1003"
      ]
     },
     "execution_count": 15,
     "metadata": {},
     "output_type": "execute_result"
    }
   ],
   "source": [
    "# Or you can group by the 'asin' column, count the values for each asin and then count the rows for the entire dataframe\n",
    "(df.groupby('asin').count()).count()"
   ]
  },
  {
   "cell_type": "code",
   "execution_count": null,
   "id": "a6a0f592",
   "metadata": {},
   "outputs": [],
   "source": []
  },
  {
   "cell_type": "code",
   "execution_count": null,
   "id": "a87045a1",
   "metadata": {},
   "outputs": [],
   "source": []
  },
  {
   "cell_type": "code",
   "execution_count": null,
   "id": "0cf50023",
   "metadata": {},
   "outputs": [],
   "source": []
  },
  {
   "cell_type": "code",
   "execution_count": null,
   "id": "f8000f81",
   "metadata": {},
   "outputs": [],
   "source": []
  },
  {
   "cell_type": "code",
   "execution_count": null,
   "id": "35de0b48",
   "metadata": {},
   "outputs": [],
   "source": []
  },
  {
   "cell_type": "code",
   "execution_count": 16,
   "id": "e490b522",
   "metadata": {},
   "outputs": [
    {
     "name": "stderr",
     "output_type": "stream",
     "text": [
      "23/09/23 22:47:09 WARN CSVHeaderChecker: Number of column in CSV header is not equal to number of fields in the schema:\n",
      " Header length: 42, schema size: 34\n",
      "CSV file: file:///Users/hipprofessional/Downloads/Amazon%20products%20dataset.csv\n"
     ]
    },
    {
     "data": {
      "text/html": [
       "<div>\n",
       "<style scoped>\n",
       "    .dataframe tbody tr th:only-of-type {\n",
       "        vertical-align: middle;\n",
       "    }\n",
       "\n",
       "    .dataframe tbody tr th {\n",
       "        vertical-align: top;\n",
       "    }\n",
       "\n",
       "    .dataframe thead th {\n",
       "        text-align: right;\n",
       "    }\n",
       "</style>\n",
       "<table border=\"1\" class=\"dataframe\">\n",
       "  <thead>\n",
       "    <tr style=\"text-align: right;\">\n",
       "      <th></th>\n",
       "      <th>timestamp</th>\n",
       "      <th>asin</th>\n",
       "      <th>brand</th>\n",
       "      <th>buybox_seller</th>\n",
       "      <th>final_price</th>\n",
       "      <th>number_of_sellers</th>\n",
       "      <th>root_bs_rank</th>\n",
       "      <th>reviews_count</th>\n",
       "      <th>ISBN10</th>\n",
       "      <th>currency</th>\n",
       "      <th>image_url</th>\n",
       "      <th>images_count</th>\n",
       "      <th>title</th>\n",
       "      <th>url</th>\n",
       "      <th>video_count</th>\n",
       "      <th>category_tree</th>\n",
       "      <th>item_weight</th>\n",
       "      <th>rating</th>\n",
       "      <th>top_review</th>\n",
       "      <th>seller_id</th>\n",
       "      <th>availability</th>\n",
       "      <th>product_dimensions</th>\n",
       "      <th>discount</th>\n",
       "      <th>initial_price</th>\n",
       "      <th>description</th>\n",
       "      <th>image</th>\n",
       "      <th>answered_questions</th>\n",
       "      <th>date_first_available</th>\n",
       "      <th>model_number</th>\n",
       "      <th>manufacturer</th>\n",
       "      <th>department</th>\n",
       "      <th>plus_content</th>\n",
       "      <th>upc</th>\n",
       "      <th>video</th>\n",
       "    </tr>\n",
       "  </thead>\n",
       "  <tbody>\n",
       "  </tbody>\n",
       "</table>\n",
       "</div>"
      ],
      "text/plain": [
       "Empty DataFrame\n",
       "Columns: [timestamp, asin, brand, buybox_seller, final_price, number_of_sellers, root_bs_rank, reviews_count, ISBN10, currency, image_url, images_count, title, url, video_count, category_tree, item_weight, rating, top_review, seller_id, availability, product_dimensions, discount, initial_price, description, image, answered_questions, date_first_available, model_number, manufacturer, department, plus_content, upc, video]\n",
       "Index: []"
      ]
     },
     "execution_count": 16,
     "metadata": {},
     "output_type": "execute_result"
    }
   ],
   "source": [
    "# Filtering the dataframe for a specific brand\n",
    "df.filter(col('brand') == 'Hitachi').limit(3).toPandas()"
   ]
  },
  {
   "cell_type": "code",
   "execution_count": null,
   "id": "d35ea60a",
   "metadata": {},
   "outputs": [],
   "source": []
  },
  {
   "cell_type": "code",
   "execution_count": null,
   "id": "fc69be8d",
   "metadata": {},
   "outputs": [],
   "source": []
  },
  {
   "cell_type": "code",
   "execution_count": null,
   "id": "44baed85",
   "metadata": {},
   "outputs": [],
   "source": []
  },
  {
   "cell_type": "code",
   "execution_count": null,
   "id": "7e0ac3df",
   "metadata": {},
   "outputs": [],
   "source": []
  },
  {
   "cell_type": "code",
   "execution_count": null,
   "id": "4568b1e0",
   "metadata": {},
   "outputs": [],
   "source": []
  },
  {
   "cell_type": "code",
   "execution_count": 17,
   "id": "ab59abad",
   "metadata": {},
   "outputs": [
    {
     "name": "stderr",
     "output_type": "stream",
     "text": [
      "23/09/23 22:47:09 WARN CSVHeaderChecker: CSV header does not conform to the schema.\n",
      " Header: asin, title\n",
      " Schema: asin, images_count\n",
      "Expected: images_count but found: title\n",
      "CSV file: file:///Users/hipprofessional/Downloads/Amazon%20products%20dataset.csv\n"
     ]
    },
    {
     "data": {
      "text/html": [
       "<div>\n",
       "<style scoped>\n",
       "    .dataframe tbody tr th:only-of-type {\n",
       "        vertical-align: middle;\n",
       "    }\n",
       "\n",
       "    .dataframe tbody tr th {\n",
       "        vertical-align: top;\n",
       "    }\n",
       "\n",
       "    .dataframe thead th {\n",
       "        text-align: right;\n",
       "    }\n",
       "</style>\n",
       "<table border=\"1\" class=\"dataframe\">\n",
       "  <thead>\n",
       "    <tr style=\"text-align: right;\">\n",
       "      <th></th>\n",
       "      <th>asin</th>\n",
       "      <th>images_count</th>\n",
       "    </tr>\n",
       "  </thead>\n",
       "  <tbody>\n",
       "  </tbody>\n",
       "</table>\n",
       "</div>"
      ],
      "text/plain": [
       "Empty DataFrame\n",
       "Columns: [asin, images_count]\n",
       "Index: []"
      ]
     },
     "execution_count": 17,
     "metadata": {},
     "output_type": "execute_result"
    }
   ],
   "source": [
    "# Filtering the dataframe for products with more than 5 images\n",
    "df.filter(col('images_count') > 5).select('asin','images_count').limit(5).toPandas()"
   ]
  },
  {
   "cell_type": "code",
   "execution_count": null,
   "id": "f6bd2ef7",
   "metadata": {},
   "outputs": [],
   "source": []
  },
  {
   "cell_type": "code",
   "execution_count": null,
   "id": "9c8401ac",
   "metadata": {},
   "outputs": [],
   "source": []
  },
  {
   "cell_type": "code",
   "execution_count": null,
   "id": "680ec55a",
   "metadata": {},
   "outputs": [],
   "source": []
  },
  {
   "cell_type": "code",
   "execution_count": null,
   "id": "32ce12eb",
   "metadata": {},
   "outputs": [],
   "source": []
  },
  {
   "cell_type": "code",
   "execution_count": null,
   "id": "69a7fdea",
   "metadata": {},
   "outputs": [],
   "source": []
  },
  {
   "cell_type": "code",
   "execution_count": 18,
   "id": "9ec050cf",
   "metadata": {},
   "outputs": [
    {
     "name": "stderr",
     "output_type": "stream",
     "text": [
      "23/09/23 22:47:10 WARN CSVHeaderChecker: CSV header does not conform to the schema.\n",
      " Header: asin, brand, title, url, categories\n",
      " Schema: asin, brand, images_count, title, video_count\n",
      "Expected: images_count but found: title\n",
      "CSV file: file:///Users/hipprofessional/Downloads/Amazon%20products%20dataset.csv\n"
     ]
    },
    {
     "data": {
      "text/html": [
       "<div>\n",
       "<style scoped>\n",
       "    .dataframe tbody tr th:only-of-type {\n",
       "        vertical-align: middle;\n",
       "    }\n",
       "\n",
       "    .dataframe tbody tr th {\n",
       "        vertical-align: top;\n",
       "    }\n",
       "\n",
       "    .dataframe thead th {\n",
       "        text-align: right;\n",
       "    }\n",
       "</style>\n",
       "<table border=\"1\" class=\"dataframe\">\n",
       "  <thead>\n",
       "    <tr style=\"text-align: right;\">\n",
       "      <th></th>\n",
       "      <th>asin</th>\n",
       "      <th>brand</th>\n",
       "      <th>title</th>\n",
       "      <th>images_count</th>\n",
       "      <th>video_count</th>\n",
       "    </tr>\n",
       "  </thead>\n",
       "  <tbody>\n",
       "  </tbody>\n",
       "</table>\n",
       "</div>"
      ],
      "text/plain": [
       "Empty DataFrame\n",
       "Columns: [asin, brand, title, images_count, video_count]\n",
       "Index: []"
      ]
     },
     "execution_count": 18,
     "metadata": {},
     "output_type": "execute_result"
    }
   ],
   "source": [
    "df.filter((col('images_count') > 5) & (col('video_count') > 5)).select('asin', 'brand', 'title', 'images_count', 'video_count').limit(5).toPandas()"
   ]
  },
  {
   "cell_type": "code",
   "execution_count": null,
   "id": "e71dd6ba",
   "metadata": {},
   "outputs": [],
   "source": []
  },
  {
   "cell_type": "code",
   "execution_count": null,
   "id": "8be0637c",
   "metadata": {},
   "outputs": [],
   "source": []
  },
  {
   "cell_type": "code",
   "execution_count": null,
   "id": "79df0b50",
   "metadata": {},
   "outputs": [],
   "source": []
  },
  {
   "cell_type": "code",
   "execution_count": null,
   "id": "b8aae8fb",
   "metadata": {},
   "outputs": [],
   "source": []
  },
  {
   "cell_type": "code",
   "execution_count": null,
   "id": "0d1e9f52",
   "metadata": {},
   "outputs": [],
   "source": []
  },
  {
   "cell_type": "code",
   "execution_count": null,
   "id": "e21412e9",
   "metadata": {},
   "outputs": [],
   "source": []
  },
  {
   "attachments": {},
   "cell_type": "markdown",
   "id": "e30dc8da",
   "metadata": {},
   "source": [
    "#### <font color='green'>Keeping only the columns of interest</font>"
   ]
  },
  {
   "cell_type": "code",
   "execution_count": 19,
   "id": "358a6978",
   "metadata": {},
   "outputs": [],
   "source": [
    "cols = ['timestamp', 'asin', 'brand', 'final_price', 'reviews_count', 'images_count', 'title', 'url',\n",
    "       'video_count', 'rating', 'category_tree']"
   ]
  },
  {
   "cell_type": "code",
   "execution_count": null,
   "id": "f4a85945",
   "metadata": {},
   "outputs": [],
   "source": []
  },
  {
   "cell_type": "code",
   "execution_count": null,
   "id": "155bd379",
   "metadata": {},
   "outputs": [],
   "source": []
  },
  {
   "cell_type": "code",
   "execution_count": null,
   "id": "b717e38d",
   "metadata": {},
   "outputs": [],
   "source": []
  },
  {
   "cell_type": "code",
   "execution_count": null,
   "id": "3f2bdbe5",
   "metadata": {},
   "outputs": [],
   "source": []
  },
  {
   "cell_type": "code",
   "execution_count": null,
   "id": "402abdf9",
   "metadata": {},
   "outputs": [],
   "source": []
  },
  {
   "cell_type": "code",
   "execution_count": 20,
   "id": "103ab303",
   "metadata": {},
   "outputs": [],
   "source": [
    "df = df.select(cols)"
   ]
  },
  {
   "cell_type": "code",
   "execution_count": null,
   "id": "fc378f17",
   "metadata": {},
   "outputs": [],
   "source": []
  },
  {
   "cell_type": "code",
   "execution_count": null,
   "id": "8ac0c92a",
   "metadata": {},
   "outputs": [],
   "source": []
  },
  {
   "cell_type": "code",
   "execution_count": null,
   "id": "b732db96",
   "metadata": {},
   "outputs": [],
   "source": []
  },
  {
   "cell_type": "code",
   "execution_count": null,
   "id": "17299aad",
   "metadata": {},
   "outputs": [],
   "source": []
  },
  {
   "cell_type": "code",
   "execution_count": null,
   "id": "192d4d62",
   "metadata": {},
   "outputs": [],
   "source": []
  },
  {
   "cell_type": "code",
   "execution_count": 21,
   "id": "6509c785",
   "metadata": {},
   "outputs": [
    {
     "name": "stderr",
     "output_type": "stream",
     "text": [
      "23/09/23 22:47:10 WARN CSVHeaderChecker: CSV header does not conform to the schema.\n",
      " Header: timestamp, asin, brand, final_price, reviews_count, title, url, video_count, categories, item_weight, top_review\n",
      " Schema: timestamp, asin, brand, final_price, reviews_count, images_count, title, url, video_count, category_tree, rating\n",
      "Expected: images_count but found: title\n",
      "CSV file: file:///Users/hipprofessional/Downloads/Amazon%20products%20dataset.csv\n"
     ]
    },
    {
     "data": {
      "text/html": [
       "<div>\n",
       "<style scoped>\n",
       "    .dataframe tbody tr th:only-of-type {\n",
       "        vertical-align: middle;\n",
       "    }\n",
       "\n",
       "    .dataframe tbody tr th {\n",
       "        vertical-align: top;\n",
       "    }\n",
       "\n",
       "    .dataframe thead th {\n",
       "        text-align: right;\n",
       "    }\n",
       "</style>\n",
       "<table border=\"1\" class=\"dataframe\">\n",
       "  <thead>\n",
       "    <tr style=\"text-align: right;\">\n",
       "      <th></th>\n",
       "      <th>timestamp</th>\n",
       "      <th>asin</th>\n",
       "      <th>brand</th>\n",
       "      <th>final_price</th>\n",
       "      <th>reviews_count</th>\n",
       "      <th>images_count</th>\n",
       "      <th>title</th>\n",
       "      <th>url</th>\n",
       "      <th>video_count</th>\n",
       "      <th>rating</th>\n",
       "      <th>category_tree</th>\n",
       "    </tr>\n",
       "  </thead>\n",
       "  <tbody>\n",
       "    <tr>\n",
       "      <th>0</th>\n",
       "      <td>2022-10-03</td>\n",
       "      <td>B07W5RF3HH</td>\n",
       "      <td>Kensington</td>\n",
       "      <td>$29.49</td>\n",
       "      <td>114</td>\n",
       "      <td>NaN</td>\n",
       "      <td>https://www.amazon.com/dp/B07W5RF3HH?language=...</td>\n",
       "      <td>1</td>\n",
       "      <td>NaN</td>\n",
       "      <td>NaN</td>\n",
       "      <td>‎4.8 ounces</td>\n",
       "    </tr>\n",
       "    <tr>\n",
       "      <th>1</th>\n",
       "      <td>2023-09-10</td>\n",
       "      <td>B0C5J3P4FP</td>\n",
       "      <td>Jzyliti</td>\n",
       "      <td>9.99</td>\n",
       "      <td>210</td>\n",
       "      <td>NaN</td>\n",
       "      <td>https://www.amazon.com/Electricity-Saving-Hous...</td>\n",
       "      <td>0</td>\n",
       "      <td>NaN</td>\n",
       "      <td>NaN</td>\n",
       "      <td>6.1 ounces</td>\n",
       "    </tr>\n",
       "    <tr>\n",
       "      <th>2</th>\n",
       "      <td>2023-09-10</td>\n",
       "      <td>B0BC3Y5LDP</td>\n",
       "      <td>Tamispit</td>\n",
       "      <td>29.99</td>\n",
       "      <td>2087</td>\n",
       "      <td>NaN</td>\n",
       "      <td>https://www.amazon.com/tamispit-Swimming-Water...</td>\n",
       "      <td>0</td>\n",
       "      <td>NaN</td>\n",
       "      <td>NaN</td>\n",
       "      <td>2.39 ounces</td>\n",
       "    </tr>\n",
       "    <tr>\n",
       "      <th>3</th>\n",
       "      <td>2023-09-10</td>\n",
       "      <td>B0C8SGDRX5</td>\n",
       "      <td>DYEYOY</td>\n",
       "      <td>29.99</td>\n",
       "      <td>1319</td>\n",
       "      <td>NaN</td>\n",
       "      <td>https://www.amazon.com/Cartridges-Compatible-R...</td>\n",
       "      <td>0</td>\n",
       "      <td>NaN</td>\n",
       "      <td>NaN</td>\n",
       "      <td>6.4 ounces</td>\n",
       "    </tr>\n",
       "    <tr>\n",
       "      <th>4</th>\n",
       "      <td>2023-08-22</td>\n",
       "      <td>B08F6T1CJ7</td>\n",
       "      <td>HP</td>\n",
       "      <td>699</td>\n",
       "      <td>487</td>\n",
       "      <td>NaN</td>\n",
       "      <td>https://www.amazon.com/HP-DesignJet-Compact-Wi...</td>\n",
       "      <td>0</td>\n",
       "      <td>NaN</td>\n",
       "      <td>NaN</td>\n",
       "      <td>47 pounds</td>\n",
       "    </tr>\n",
       "    <tr>\n",
       "      <th>5</th>\n",
       "      <td>2023-09-10</td>\n",
       "      <td>B07Z6CSMKM</td>\n",
       "      <td>GEEKRIA</td>\n",
       "      <td>15.95</td>\n",
       "      <td>60</td>\n",
       "      <td>NaN</td>\n",
       "      <td>https://www.amazon.com/UltraShell-Cancelling-H...</td>\n",
       "      <td>0</td>\n",
       "      <td>NaN</td>\n",
       "      <td>NaN</td>\n",
       "      <td>5.6 ounces</td>\n",
       "    </tr>\n",
       "  </tbody>\n",
       "</table>\n",
       "</div>"
      ],
      "text/plain": [
       "    timestamp        asin       brand final_price  reviews_count  \\\n",
       "0  2022-10-03  B07W5RF3HH  Kensington      $29.49            114   \n",
       "1  2023-09-10  B0C5J3P4FP     Jzyliti        9.99            210   \n",
       "2  2023-09-10  B0BC3Y5LDP    Tamispit       29.99           2087   \n",
       "3  2023-09-10  B0C8SGDRX5      DYEYOY       29.99           1319   \n",
       "4  2023-08-22  B08F6T1CJ7          HP         699            487   \n",
       "5  2023-09-10  B07Z6CSMKM     GEEKRIA       15.95             60   \n",
       "\n",
       "   images_count                                              title url  \\\n",
       "0           NaN  https://www.amazon.com/dp/B07W5RF3HH?language=...   1   \n",
       "1           NaN  https://www.amazon.com/Electricity-Saving-Hous...   0   \n",
       "2           NaN  https://www.amazon.com/tamispit-Swimming-Water...   0   \n",
       "3           NaN  https://www.amazon.com/Cartridges-Compatible-R...   0   \n",
       "4           NaN  https://www.amazon.com/HP-DesignJet-Compact-Wi...   0   \n",
       "5           NaN  https://www.amazon.com/UltraShell-Cancelling-H...   0   \n",
       "\n",
       "   video_count  rating category_tree  \n",
       "0          NaN     NaN   ‎4.8 ounces  \n",
       "1          NaN     NaN    6.1 ounces  \n",
       "2          NaN     NaN   2.39 ounces  \n",
       "3          NaN     NaN    6.4 ounces  \n",
       "4          NaN     NaN     47 pounds  \n",
       "5          NaN     NaN    5.6 ounces  "
      ]
     },
     "execution_count": 21,
     "metadata": {},
     "output_type": "execute_result"
    }
   ],
   "source": [
    "df.limit(6).toPandas()"
   ]
  },
  {
   "cell_type": "code",
   "execution_count": null,
   "id": "fa7f4fcb",
   "metadata": {},
   "outputs": [],
   "source": []
  },
  {
   "cell_type": "code",
   "execution_count": null,
   "id": "a2d8e357",
   "metadata": {},
   "outputs": [],
   "source": []
  },
  {
   "cell_type": "code",
   "execution_count": null,
   "id": "13368b69",
   "metadata": {},
   "outputs": [],
   "source": []
  },
  {
   "cell_type": "code",
   "execution_count": null,
   "id": "2f224128",
   "metadata": {},
   "outputs": [],
   "source": []
  },
  {
   "cell_type": "code",
   "execution_count": null,
   "id": "e07ab174",
   "metadata": {},
   "outputs": [],
   "source": []
  },
  {
   "attachments": {},
   "cell_type": "markdown",
   "id": "40bdf29a",
   "metadata": {},
   "source": [
    "#### <font color='green'>How many null values do we have in the dataframe?</font>"
   ]
  },
  {
   "cell_type": "code",
   "execution_count": 22,
   "id": "9e00bcc5",
   "metadata": {
    "scrolled": true
   },
   "outputs": [
    {
     "name": "stderr",
     "output_type": "stream",
     "text": [
      "23/09/23 22:47:10 WARN CSVHeaderChecker: CSV header does not conform to the schema.\n",
      " Header: timestamp, asin, brand, final_price, reviews_count, title, url, video_count, categories, item_weight, top_review\n",
      " Schema: timestamp, asin, brand, final_price, reviews_count, images_count, title, url, video_count, category_tree, rating\n",
      "Expected: images_count but found: title\n",
      "CSV file: file:///Users/hipprofessional/Downloads/Amazon%20products%20dataset.csv\n"
     ]
    },
    {
     "data": {
      "text/html": [
       "<div>\n",
       "<style scoped>\n",
       "    .dataframe tbody tr th:only-of-type {\n",
       "        vertical-align: middle;\n",
       "    }\n",
       "\n",
       "    .dataframe tbody tr th {\n",
       "        vertical-align: top;\n",
       "    }\n",
       "\n",
       "    .dataframe thead th {\n",
       "        text-align: right;\n",
       "    }\n",
       "</style>\n",
       "<table border=\"1\" class=\"dataframe\">\n",
       "  <thead>\n",
       "    <tr style=\"text-align: right;\">\n",
       "      <th></th>\n",
       "      <th>timestamp</th>\n",
       "      <th>asin</th>\n",
       "      <th>brand</th>\n",
       "      <th>final_price</th>\n",
       "      <th>reviews_count</th>\n",
       "      <th>images_count</th>\n",
       "      <th>title</th>\n",
       "      <th>url</th>\n",
       "      <th>video_count</th>\n",
       "      <th>rating</th>\n",
       "      <th>category_tree</th>\n",
       "    </tr>\n",
       "  </thead>\n",
       "  <tbody>\n",
       "    <tr>\n",
       "      <th>0</th>\n",
       "      <td>4</td>\n",
       "      <td>2</td>\n",
       "      <td>3</td>\n",
       "      <td>3</td>\n",
       "      <td>4</td>\n",
       "      <td>1004</td>\n",
       "      <td>4</td>\n",
       "      <td>4</td>\n",
       "      <td>1004</td>\n",
       "      <td>1004</td>\n",
       "      <td>4</td>\n",
       "    </tr>\n",
       "  </tbody>\n",
       "</table>\n",
       "</div>"
      ],
      "text/plain": [
       "   timestamp  asin  brand  final_price  reviews_count  images_count  title  \\\n",
       "0          4     2      3            3              4          1004      4   \n",
       "\n",
       "   url  video_count  rating  category_tree  \n",
       "0    4         1004    1004              4  "
      ]
     },
     "execution_count": 22,
     "metadata": {},
     "output_type": "execute_result"
    }
   ],
   "source": [
    "null_counts = df.select([sum(col(column).isNull().cast(\"int\")).alias(column) for column in df.columns])\n",
    "\n",
    "# Display the null counts\n",
    "null_counts.toPandas()"
   ]
  },
  {
   "cell_type": "code",
   "execution_count": null,
   "id": "0c1ea9ab",
   "metadata": {},
   "outputs": [],
   "source": []
  },
  {
   "cell_type": "code",
   "execution_count": null,
   "id": "99552c14",
   "metadata": {},
   "outputs": [],
   "source": []
  },
  {
   "cell_type": "code",
   "execution_count": null,
   "id": "3e8f642b",
   "metadata": {},
   "outputs": [],
   "source": []
  },
  {
   "cell_type": "code",
   "execution_count": null,
   "id": "56aa513f",
   "metadata": {},
   "outputs": [],
   "source": []
  },
  {
   "cell_type": "code",
   "execution_count": null,
   "id": "b09a7d28",
   "metadata": {},
   "outputs": [],
   "source": []
  },
  {
   "cell_type": "code",
   "execution_count": 23,
   "id": "bfd6cea5",
   "metadata": {},
   "outputs": [
    {
     "data": {
      "image/png": "[encoded data removed]",
      "text/plain": [
       "<Figure size 1500x600 with 1 Axes>"
      ]
     },
     "metadata": {},
     "output_type": "display_data"
    }
   ],
   "source": [
    "transposed_df = null_counts.toPandas().T.reset_index()\n",
    "\n",
    "# Rename the columns\n",
    "transposed_df.columns = ['column', 'value']\n",
    "\n",
    "# Set the figure size for the chart\n",
    "plt.figure(figsize=(15, 6))\n",
    "\n",
    "# Create a horizontal bar chart using Seaborn with the custom figure size\n",
    "ax = sns.barplot(x='value', y='column', data=transposed_df)\n",
    "sns.set_palette(\"dark\")\n",
    "\n",
    "# Set the chart title\n",
    "plt.title('Missing Values')\n",
    "\n",
    "for p in ax.patches:\n",
    "    width = p.get_width()\n",
    "    value = '{:,.0f}'.format(width)\n",
    "    x = width + 0.1\n",
    "    y = p.get_y() + p.get_height() / 2 + 0.1\n",
    "    ax.annotate(value, (x, y), fontsize=8)\n",
    "    \n",
    "# Format y-axis labels with a thousands comma separator\n",
    "ax.xaxis.set_major_formatter(ticker.FuncFormatter(lambda x, pos: '{:,.0f}'.format(x)))\n",
    "\n",
    "# Display the chart\n",
    "plt.show()"
   ]
  },
  {
   "cell_type": "code",
   "execution_count": null,
   "id": "1e69e230",
   "metadata": {},
   "outputs": [],
   "source": []
  },
  {
   "cell_type": "code",
   "execution_count": null,
   "id": "7540c5d2",
   "metadata": {},
   "outputs": [],
   "source": []
  },
  {
   "cell_type": "code",
   "execution_count": null,
   "id": "c2d660d6",
   "metadata": {},
   "outputs": [],
   "source": []
  },
  {
   "cell_type": "code",
   "execution_count": null,
   "id": "a1d10c87",
   "metadata": {},
   "outputs": [],
   "source": []
  },
  {
   "cell_type": "code",
   "execution_count": null,
   "id": "af7e9251",
   "metadata": {},
   "outputs": [],
   "source": []
  },
  {
   "attachments": {},
   "cell_type": "markdown",
   "id": "174b3c1c",
   "metadata": {},
   "source": [
    "#### <font color='green'>Clean and transform the final_price column</font>"
   ]
  },
  {
   "cell_type": "code",
   "execution_count": 24,
   "id": "28f90f2d",
   "metadata": {},
   "outputs": [],
   "source": [
    "# Get the first price if there are two prices listed\n",
    "df = df.withColumn(\"final_price\", split(col(\"final_price\"), \" \").getItem(0))"
   ]
  },
  {
   "cell_type": "code",
   "execution_count": null,
   "id": "ad338fd2",
   "metadata": {},
   "outputs": [],
   "source": []
  },
  {
   "cell_type": "code",
   "execution_count": null,
   "id": "c08dae00",
   "metadata": {},
   "outputs": [],
   "source": []
  },
  {
   "cell_type": "code",
   "execution_count": null,
   "id": "0a2113fd",
   "metadata": {},
   "outputs": [],
   "source": []
  },
  {
   "cell_type": "code",
   "execution_count": null,
   "id": "d9b3eb28",
   "metadata": {},
   "outputs": [],
   "source": []
  },
  {
   "cell_type": "code",
   "execution_count": null,
   "id": "7c953bb7",
   "metadata": {},
   "outputs": [],
   "source": []
  },
  {
   "cell_type": "code",
   "execution_count": 25,
   "id": "fa8e809f",
   "metadata": {},
   "outputs": [],
   "source": [
    "# Drop the rows where the price is missing\n",
    "df = df.na.drop(subset=[\"final_price\"])"
   ]
  },
  {
   "cell_type": "code",
   "execution_count": null,
   "id": "cea5245d",
   "metadata": {},
   "outputs": [],
   "source": []
  },
  {
   "cell_type": "code",
   "execution_count": null,
   "id": "5d254b8b",
   "metadata": {},
   "outputs": [],
   "source": []
  },
  {
   "cell_type": "code",
   "execution_count": null,
   "id": "6e1490b2",
   "metadata": {},
   "outputs": [],
   "source": []
  },
  {
   "cell_type": "code",
   "execution_count": null,
   "id": "ccf2b2ad",
   "metadata": {},
   "outputs": [],
   "source": []
  },
  {
   "cell_type": "code",
   "execution_count": null,
   "id": "6f7ae97c",
   "metadata": {},
   "outputs": [],
   "source": []
  },
  {
   "cell_type": "code",
   "execution_count": 26,
   "id": "29269d5c",
   "metadata": {},
   "outputs": [
    {
     "data": {
      "text/plain": [
       "0"
      ]
     },
     "execution_count": 26,
     "metadata": {},
     "output_type": "execute_result"
    }
   ],
   "source": [
    "# Double check that there's definitely no missing values in the final_price column\n",
    "df.filter(col(\"final_price\").isNull()).count()"
   ]
  },
  {
   "cell_type": "code",
   "execution_count": null,
   "id": "b899f129",
   "metadata": {},
   "outputs": [],
   "source": []
  },
  {
   "cell_type": "code",
   "execution_count": null,
   "id": "e005914d",
   "metadata": {},
   "outputs": [],
   "source": []
  },
  {
   "cell_type": "code",
   "execution_count": null,
   "id": "4a59db05",
   "metadata": {},
   "outputs": [],
   "source": []
  },
  {
   "cell_type": "code",
   "execution_count": null,
   "id": "b3cfbe10",
   "metadata": {},
   "outputs": [],
   "source": []
  },
  {
   "cell_type": "code",
   "execution_count": null,
   "id": "a69b03b0",
   "metadata": {},
   "outputs": [],
   "source": []
  },
  {
   "cell_type": "code",
   "execution_count": 27,
   "id": "b6496866",
   "metadata": {},
   "outputs": [],
   "source": [
    "# Remove the $ sign from the final_price column and change the data type from string to double\n",
    "df = df.withColumn(\"final_price\", regexp_replace(col(\"final_price\"), \"[US$,]\", \"\").cast('double'))"
   ]
  },
  {
   "cell_type": "code",
   "execution_count": null,
   "id": "72bfab46",
   "metadata": {},
   "outputs": [],
   "source": []
  },
  {
   "cell_type": "code",
   "execution_count": null,
   "id": "d1d7821a",
   "metadata": {},
   "outputs": [],
   "source": []
  },
  {
   "cell_type": "code",
   "execution_count": null,
   "id": "7d648c42",
   "metadata": {},
   "outputs": [],
   "source": []
  },
  {
   "cell_type": "code",
   "execution_count": null,
   "id": "ae7ea43e",
   "metadata": {},
   "outputs": [],
   "source": []
  },
  {
   "cell_type": "code",
   "execution_count": null,
   "id": "cd829a3b",
   "metadata": {},
   "outputs": [],
   "source": []
  },
  {
   "cell_type": "code",
   "execution_count": 28,
   "id": "0df30f6d",
   "metadata": {},
   "outputs": [
    {
     "name": "stderr",
     "output_type": "stream",
     "text": [
      "23/09/23 22:47:11 WARN CSVHeaderChecker: CSV header does not conform to the schema.\n",
      " Header: timestamp, asin, brand, final_price, reviews_count, title, url, video_count, categories, item_weight, top_review\n",
      " Schema: timestamp, asin, brand, final_price, reviews_count, images_count, title, url, video_count, category_tree, rating\n",
      "Expected: images_count but found: title\n",
      "CSV file: file:///Users/hipprofessional/Downloads/Amazon%20products%20dataset.csv\n"
     ]
    },
    {
     "data": {
      "text/html": [
       "<div>\n",
       "<style scoped>\n",
       "    .dataframe tbody tr th:only-of-type {\n",
       "        vertical-align: middle;\n",
       "    }\n",
       "\n",
       "    .dataframe tbody tr th {\n",
       "        vertical-align: top;\n",
       "    }\n",
       "\n",
       "    .dataframe thead th {\n",
       "        text-align: right;\n",
       "    }\n",
       "</style>\n",
       "<table border=\"1\" class=\"dataframe\">\n",
       "  <thead>\n",
       "    <tr style=\"text-align: right;\">\n",
       "      <th></th>\n",
       "      <th>timestamp</th>\n",
       "      <th>asin</th>\n",
       "      <th>brand</th>\n",
       "      <th>final_price</th>\n",
       "      <th>reviews_count</th>\n",
       "      <th>images_count</th>\n",
       "      <th>title</th>\n",
       "      <th>url</th>\n",
       "      <th>video_count</th>\n",
       "      <th>rating</th>\n",
       "      <th>category_tree</th>\n",
       "    </tr>\n",
       "  </thead>\n",
       "  <tbody>\n",
       "    <tr>\n",
       "      <th>0</th>\n",
       "      <td>2022-10-03</td>\n",
       "      <td>B07W5RF3HH</td>\n",
       "      <td>Kensington</td>\n",
       "      <td>29.49</td>\n",
       "      <td>114</td>\n",
       "      <td>NaN</td>\n",
       "      <td>https://www.amazon.com/dp/B07W5RF3HH?language=...</td>\n",
       "      <td>1</td>\n",
       "      <td>NaN</td>\n",
       "      <td>NaN</td>\n",
       "      <td>‎4.8 ounces</td>\n",
       "    </tr>\n",
       "    <tr>\n",
       "      <th>1</th>\n",
       "      <td>2023-09-10</td>\n",
       "      <td>B0C5J3P4FP</td>\n",
       "      <td>Jzyliti</td>\n",
       "      <td>9.99</td>\n",
       "      <td>210</td>\n",
       "      <td>NaN</td>\n",
       "      <td>https://www.amazon.com/Electricity-Saving-Hous...</td>\n",
       "      <td>0</td>\n",
       "      <td>NaN</td>\n",
       "      <td>NaN</td>\n",
       "      <td>6.1 ounces</td>\n",
       "    </tr>\n",
       "    <tr>\n",
       "      <th>2</th>\n",
       "      <td>2023-09-10</td>\n",
       "      <td>B0BC3Y5LDP</td>\n",
       "      <td>Tamispit</td>\n",
       "      <td>29.99</td>\n",
       "      <td>2087</td>\n",
       "      <td>NaN</td>\n",
       "      <td>https://www.amazon.com/tamispit-Swimming-Water...</td>\n",
       "      <td>0</td>\n",
       "      <td>NaN</td>\n",
       "      <td>NaN</td>\n",
       "      <td>2.39 ounces</td>\n",
       "    </tr>\n",
       "    <tr>\n",
       "      <th>3</th>\n",
       "      <td>2023-09-10</td>\n",
       "      <td>B0C8SGDRX5</td>\n",
       "      <td>DYEYOY</td>\n",
       "      <td>29.99</td>\n",
       "      <td>1319</td>\n",
       "      <td>NaN</td>\n",
       "      <td>https://www.amazon.com/Cartridges-Compatible-R...</td>\n",
       "      <td>0</td>\n",
       "      <td>NaN</td>\n",
       "      <td>NaN</td>\n",
       "      <td>6.4 ounces</td>\n",
       "    </tr>\n",
       "    <tr>\n",
       "      <th>4</th>\n",
       "      <td>2023-08-22</td>\n",
       "      <td>B08F6T1CJ7</td>\n",
       "      <td>HP</td>\n",
       "      <td>699.00</td>\n",
       "      <td>487</td>\n",
       "      <td>NaN</td>\n",
       "      <td>https://www.amazon.com/HP-DesignJet-Compact-Wi...</td>\n",
       "      <td>0</td>\n",
       "      <td>NaN</td>\n",
       "      <td>NaN</td>\n",
       "      <td>47 pounds</td>\n",
       "    </tr>\n",
       "    <tr>\n",
       "      <th>5</th>\n",
       "      <td>2023-09-10</td>\n",
       "      <td>B07Z6CSMKM</td>\n",
       "      <td>GEEKRIA</td>\n",
       "      <td>15.95</td>\n",
       "      <td>60</td>\n",
       "      <td>NaN</td>\n",
       "      <td>https://www.amazon.com/UltraShell-Cancelling-H...</td>\n",
       "      <td>0</td>\n",
       "      <td>NaN</td>\n",
       "      <td>NaN</td>\n",
       "      <td>5.6 ounces</td>\n",
       "    </tr>\n",
       "  </tbody>\n",
       "</table>\n",
       "</div>"
      ],
      "text/plain": [
       "    timestamp        asin       brand  final_price  reviews_count  \\\n",
       "0  2022-10-03  B07W5RF3HH  Kensington        29.49            114   \n",
       "1  2023-09-10  B0C5J3P4FP     Jzyliti         9.99            210   \n",
       "2  2023-09-10  B0BC3Y5LDP    Tamispit        29.99           2087   \n",
       "3  2023-09-10  B0C8SGDRX5      DYEYOY        29.99           1319   \n",
       "4  2023-08-22  B08F6T1CJ7          HP       699.00            487   \n",
       "5  2023-09-10  B07Z6CSMKM     GEEKRIA        15.95             60   \n",
       "\n",
       "   images_count                                              title url  \\\n",
       "0           NaN  https://www.amazon.com/dp/B07W5RF3HH?language=...   1   \n",
       "1           NaN  https://www.amazon.com/Electricity-Saving-Hous...   0   \n",
       "2           NaN  https://www.amazon.com/tamispit-Swimming-Water...   0   \n",
       "3           NaN  https://www.amazon.com/Cartridges-Compatible-R...   0   \n",
       "4           NaN  https://www.amazon.com/HP-DesignJet-Compact-Wi...   0   \n",
       "5           NaN  https://www.amazon.com/UltraShell-Cancelling-H...   0   \n",
       "\n",
       "   video_count  rating category_tree  \n",
       "0          NaN     NaN   ‎4.8 ounces  \n",
       "1          NaN     NaN    6.1 ounces  \n",
       "2          NaN     NaN   2.39 ounces  \n",
       "3          NaN     NaN    6.4 ounces  \n",
       "4          NaN     NaN     47 pounds  \n",
       "5          NaN     NaN    5.6 ounces  "
      ]
     },
     "execution_count": 28,
     "metadata": {},
     "output_type": "execute_result"
    }
   ],
   "source": [
    "df.limit(6).toPandas()"
   ]
  },
  {
   "cell_type": "code",
   "execution_count": null,
   "id": "a9d6fa42",
   "metadata": {},
   "outputs": [],
   "source": []
  },
  {
   "cell_type": "code",
   "execution_count": null,
   "id": "b157b240",
   "metadata": {},
   "outputs": [],
   "source": []
  },
  {
   "cell_type": "code",
   "execution_count": null,
   "id": "6cc444c5",
   "metadata": {},
   "outputs": [],
   "source": []
  },
  {
   "cell_type": "code",
   "execution_count": null,
   "id": "3179d5a0",
   "metadata": {},
   "outputs": [],
   "source": []
  },
  {
   "cell_type": "code",
   "execution_count": null,
   "id": "3fab5fec",
   "metadata": {},
   "outputs": [],
   "source": []
  },
  {
   "cell_type": "code",
   "execution_count": 29,
   "id": "83d61baa",
   "metadata": {},
   "outputs": [
    {
     "name": "stdout",
     "output_type": "stream",
     "text": [
      "root\n",
      " |-- timestamp: date (nullable = true)\n",
      " |-- asin: string (nullable = true)\n",
      " |-- brand: string (nullable = true)\n",
      " |-- final_price: double (nullable = true)\n",
      " |-- reviews_count: integer (nullable = true)\n",
      " |-- images_count: integer (nullable = true)\n",
      " |-- title: string (nullable = true)\n",
      " |-- url: string (nullable = true)\n",
      " |-- video_count: integer (nullable = true)\n",
      " |-- rating: double (nullable = true)\n",
      " |-- category_tree: string (nullable = true)\n",
      "\n"
     ]
    }
   ],
   "source": [
    "# Check the schema\n",
    "df.printSchema()"
   ]
  },
  {
   "cell_type": "code",
   "execution_count": null,
   "id": "46f58969",
   "metadata": {},
   "outputs": [],
   "source": []
  },
  {
   "cell_type": "code",
   "execution_count": null,
   "id": "5982c576",
   "metadata": {},
   "outputs": [],
   "source": []
  },
  {
   "cell_type": "code",
   "execution_count": null,
   "id": "5e53644c",
   "metadata": {},
   "outputs": [],
   "source": []
  },
  {
   "cell_type": "code",
   "execution_count": null,
   "id": "a8089398",
   "metadata": {},
   "outputs": [],
   "source": []
  },
  {
   "cell_type": "code",
   "execution_count": null,
   "id": "8a4a4145",
   "metadata": {},
   "outputs": [],
   "source": []
  },
  {
   "attachments": {},
   "cell_type": "markdown",
   "id": "9e42a102",
   "metadata": {},
   "source": [
    "#### <font color='green'>Clean the rating column</font>"
   ]
  },
  {
   "cell_type": "code",
   "execution_count": 30,
   "id": "f090275d",
   "metadata": {},
   "outputs": [],
   "source": [
    "df = df.na.drop(subset=[\"rating\"])"
   ]
  },
  {
   "cell_type": "code",
   "execution_count": null,
   "id": "04bce61d",
   "metadata": {},
   "outputs": [],
   "source": []
  },
  {
   "cell_type": "code",
   "execution_count": null,
   "id": "09d2e94a",
   "metadata": {},
   "outputs": [],
   "source": []
  },
  {
   "cell_type": "code",
   "execution_count": null,
   "id": "012c3e0e",
   "metadata": {},
   "outputs": [],
   "source": []
  },
  {
   "cell_type": "code",
   "execution_count": null,
   "id": "82af921a",
   "metadata": {},
   "outputs": [],
   "source": []
  },
  {
   "cell_type": "code",
   "execution_count": null,
   "id": "02f0fea8",
   "metadata": {},
   "outputs": [],
   "source": []
  },
  {
   "cell_type": "code",
   "execution_count": 31,
   "id": "00caf30e",
   "metadata": {},
   "outputs": [
    {
     "name": "stderr",
     "output_type": "stream",
     "text": [
      "23/09/23 22:47:11 WARN CSVHeaderChecker: CSV header does not conform to the schema.\n",
      " Header: final_price, top_review\n",
      " Schema: final_price, rating\n",
      "Expected: rating but found: top_review\n",
      "CSV file: file:///Users/hipprofessional/Downloads/Amazon%20products%20dataset.csv\n"
     ]
    },
    {
     "data": {
      "text/plain": [
       "0"
      ]
     },
     "execution_count": 31,
     "metadata": {},
     "output_type": "execute_result"
    }
   ],
   "source": [
    "# Double check that there's definitely no missing values in the rating column\n",
    "df.filter(col(\"rating\").isNull()).count()"
   ]
  },
  {
   "cell_type": "code",
   "execution_count": null,
   "id": "51620bee",
   "metadata": {},
   "outputs": [],
   "source": []
  },
  {
   "cell_type": "code",
   "execution_count": null,
   "id": "7ab747bf",
   "metadata": {},
   "outputs": [],
   "source": []
  },
  {
   "cell_type": "code",
   "execution_count": null,
   "id": "9798e126",
   "metadata": {},
   "outputs": [],
   "source": []
  },
  {
   "cell_type": "code",
   "execution_count": null,
   "id": "a65a3bdf",
   "metadata": {},
   "outputs": [],
   "source": []
  },
  {
   "cell_type": "code",
   "execution_count": null,
   "id": "dafdd346",
   "metadata": {},
   "outputs": [],
   "source": []
  },
  {
   "attachments": {},
   "cell_type": "markdown",
   "id": "4e06bce4",
   "metadata": {},
   "source": [
    "#### <font color='green'>Get the detailed category from the category_tree column (i.e. the last element from the list, the most granular category description</font>"
   ]
  },
  {
   "cell_type": "code",
   "execution_count": 32,
   "id": "3fdf44f9",
   "metadata": {},
   "outputs": [],
   "source": [
    "# Replace the square brackets and the quotation marks with nothing using regex\n",
    "df = df.withColumn(\"category_tree\", regexp_replace(col(\"category_tree\"), r'[\\[\\]\\\"]', ''))"
   ]
  },
  {
   "cell_type": "code",
   "execution_count": null,
   "id": "8d62dea1",
   "metadata": {},
   "outputs": [],
   "source": []
  },
  {
   "cell_type": "code",
   "execution_count": null,
   "id": "5592d3f6",
   "metadata": {},
   "outputs": [],
   "source": []
  },
  {
   "cell_type": "code",
   "execution_count": null,
   "id": "d8f0d0be",
   "metadata": {},
   "outputs": [],
   "source": []
  },
  {
   "cell_type": "code",
   "execution_count": null,
   "id": "b40fb89d",
   "metadata": {},
   "outputs": [],
   "source": []
  },
  {
   "cell_type": "code",
   "execution_count": null,
   "id": "1b2cf5a6",
   "metadata": {},
   "outputs": [],
   "source": []
  },
  {
   "cell_type": "code",
   "execution_count": 33,
   "id": "b858b942",
   "metadata": {},
   "outputs": [],
   "source": [
    "# Creating category array column so we can extract the last element\n",
    "df = df.withColumn('cat_arr', split(df.category_tree, ','))"
   ]
  },
  {
   "cell_type": "code",
   "execution_count": null,
   "id": "b272d465",
   "metadata": {},
   "outputs": [],
   "source": []
  },
  {
   "cell_type": "code",
   "execution_count": null,
   "id": "0230354f",
   "metadata": {},
   "outputs": [],
   "source": []
  },
  {
   "cell_type": "code",
   "execution_count": null,
   "id": "271e8cef",
   "metadata": {},
   "outputs": [],
   "source": []
  },
  {
   "cell_type": "code",
   "execution_count": null,
   "id": "5a243e44",
   "metadata": {},
   "outputs": [],
   "source": []
  },
  {
   "cell_type": "code",
   "execution_count": null,
   "id": "370ae765",
   "metadata": {},
   "outputs": [],
   "source": []
  },
  {
   "cell_type": "code",
   "execution_count": 34,
   "id": "b5ef7bab",
   "metadata": {},
   "outputs": [],
   "source": [
    "# Creating the detailed category column\n",
    "df = df.withColumn('detailed_category', df.cat_arr[size(df.cat_arr)-1])"
   ]
  },
  {
   "cell_type": "code",
   "execution_count": null,
   "id": "9f79c719",
   "metadata": {},
   "outputs": [],
   "source": []
  },
  {
   "cell_type": "code",
   "execution_count": null,
   "id": "c9218282",
   "metadata": {},
   "outputs": [],
   "source": []
  },
  {
   "cell_type": "code",
   "execution_count": null,
   "id": "8f3cead5",
   "metadata": {},
   "outputs": [],
   "source": []
  },
  {
   "cell_type": "code",
   "execution_count": null,
   "id": "dd0b4424",
   "metadata": {},
   "outputs": [],
   "source": []
  },
  {
   "cell_type": "code",
   "execution_count": null,
   "id": "2b9e79b5",
   "metadata": {},
   "outputs": [],
   "source": []
  },
  {
   "cell_type": "code",
   "execution_count": 35,
   "id": "2a1a00f7",
   "metadata": {},
   "outputs": [],
   "source": [
    "pd.options.display.max_colwidth = None"
   ]
  },
  {
   "cell_type": "code",
   "execution_count": null,
   "id": "4b1370b8",
   "metadata": {},
   "outputs": [],
   "source": []
  },
  {
   "cell_type": "code",
   "execution_count": null,
   "id": "5658269c",
   "metadata": {},
   "outputs": [],
   "source": []
  },
  {
   "cell_type": "code",
   "execution_count": null,
   "id": "70909d97",
   "metadata": {},
   "outputs": [],
   "source": []
  },
  {
   "cell_type": "code",
   "execution_count": null,
   "id": "aa14dfa7",
   "metadata": {},
   "outputs": [],
   "source": []
  },
  {
   "cell_type": "code",
   "execution_count": null,
   "id": "266c94d4",
   "metadata": {},
   "outputs": [],
   "source": []
  },
  {
   "cell_type": "code",
   "execution_count": 36,
   "id": "72bf8c33",
   "metadata": {},
   "outputs": [
    {
     "name": "stderr",
     "output_type": "stream",
     "text": [
      "23/09/23 22:47:11 WARN CSVHeaderChecker: CSV header does not conform to the schema.\n",
      " Header: brand, final_price, url, item_weight, top_review\n",
      " Schema: brand, final_price, title, category_tree, rating\n",
      "Expected: title but found: url\n",
      "CSV file: file:///Users/hipprofessional/Downloads/Amazon%20products%20dataset.csv\n"
     ]
    },
    {
     "data": {
      "text/html": [
       "<div>\n",
       "<style scoped>\n",
       "    .dataframe tbody tr th:only-of-type {\n",
       "        vertical-align: middle;\n",
       "    }\n",
       "\n",
       "    .dataframe tbody tr th {\n",
       "        vertical-align: top;\n",
       "    }\n",
       "\n",
       "    .dataframe thead th {\n",
       "        text-align: right;\n",
       "    }\n",
       "</style>\n",
       "<table border=\"1\" class=\"dataframe\">\n",
       "  <thead>\n",
       "    <tr style=\"text-align: right;\">\n",
       "      <th></th>\n",
       "      <th>brand</th>\n",
       "      <th>title</th>\n",
       "      <th>category_tree</th>\n",
       "      <th>detailed_category</th>\n",
       "    </tr>\n",
       "  </thead>\n",
       "  <tbody>\n",
       "  </tbody>\n",
       "</table>\n",
       "</div>"
      ],
      "text/plain": [
       "Empty DataFrame\n",
       "Columns: [brand, title, category_tree, detailed_category]\n",
       "Index: []"
      ]
     },
     "execution_count": 36,
     "metadata": {},
     "output_type": "execute_result"
    }
   ],
   "source": [
    "df.select('brand', 'title', 'category_tree', 'detailed_category').limit(5).toPandas()"
   ]
  },
  {
   "cell_type": "code",
   "execution_count": null,
   "id": "5e353653",
   "metadata": {},
   "outputs": [],
   "source": []
  },
  {
   "cell_type": "code",
   "execution_count": null,
   "id": "fc38e43f",
   "metadata": {},
   "outputs": [],
   "source": []
  },
  {
   "cell_type": "code",
   "execution_count": null,
   "id": "58a38712",
   "metadata": {},
   "outputs": [],
   "source": []
  },
  {
   "cell_type": "code",
   "execution_count": null,
   "id": "b2a0d8f5",
   "metadata": {},
   "outputs": [],
   "source": []
  },
  {
   "cell_type": "code",
   "execution_count": null,
   "id": "b693e6c1",
   "metadata": {},
   "outputs": [],
   "source": []
  },
  {
   "cell_type": "code",
   "execution_count": 37,
   "id": "ecd56230",
   "metadata": {},
   "outputs": [
    {
     "name": "stderr",
     "output_type": "stream",
     "text": [
      "23/09/23 22:47:11 WARN CSVHeaderChecker: CSV header does not conform to the schema.\n",
      " Header: final_price, item_weight, top_review\n",
      " Schema: final_price, category_tree, rating\n",
      "Expected: category_tree but found: item_weight\n",
      "CSV file: file:///Users/hipprofessional/Downloads/Amazon%20products%20dataset.csv\n"
     ]
    },
    {
     "data": {
      "text/plain": [
       "0"
      ]
     },
     "execution_count": 37,
     "metadata": {},
     "output_type": "execute_result"
    }
   ],
   "source": [
    "# Count the distinct values in the detailed_category column\n",
    "(df.groupBy('detailed_category').count()).count()"
   ]
  },
  {
   "cell_type": "code",
   "execution_count": null,
   "id": "17e2c987",
   "metadata": {},
   "outputs": [],
   "source": []
  },
  {
   "cell_type": "code",
   "execution_count": null,
   "id": "0d57ebdd",
   "metadata": {},
   "outputs": [],
   "source": []
  },
  {
   "cell_type": "code",
   "execution_count": null,
   "id": "aeaa21f8",
   "metadata": {},
   "outputs": [],
   "source": []
  },
  {
   "cell_type": "code",
   "execution_count": null,
   "id": "71fd9cc9",
   "metadata": {},
   "outputs": [],
   "source": []
  },
  {
   "cell_type": "code",
   "execution_count": null,
   "id": "6f32d25d",
   "metadata": {},
   "outputs": [],
   "source": []
  },
  {
   "attachments": {},
   "cell_type": "markdown",
   "id": "bf835727",
   "metadata": {},
   "source": [
    "#### <font color='red'>Which detailed product categories have the most products?</font>"
   ]
  },
  {
   "cell_type": "code",
   "execution_count": 52,
   "id": "e64c8049",
   "metadata": {},
   "outputs": [
    {
     "name": "stderr",
     "output_type": "stream",
     "text": [
      "23/09/23 23:12:39 WARN CSVHeaderChecker: CSV header does not conform to the schema.\n",
      " Header: final_price, item_weight, top_review\n",
      " Schema: final_price, category_tree, rating\n",
      "Expected: category_tree but found: item_weight\n",
      "CSV file: file:///Users/hipprofessional/Downloads/Amazon%20products%20dataset.csv\n"
     ]
    },
    {
     "ename": "ValueError",
     "evalue": "min() arg is an empty sequence",
     "output_type": "error",
     "traceback": [
      "\u001b[0;31m---------------------------------------------------------------------------\u001b[0m",
      "\u001b[0;31mValueError\u001b[0m                                Traceback (most recent call last)",
      "\u001b[1;32m/Users/hipprofessional/Downloads/big_data_analytics.ipynb Cell 192\u001b[0m line \u001b[0;36m1\n\u001b[1;32m     <a href='vscode-notebook-cell:/Users/hipprofessional/Downloads/big_data_analytics.ipynb#Y362sZmlsZQ%3D%3D?line=9'>10</a>\u001b[0m \u001b[39m# print(pandas_df)\u001b[39;00m\n\u001b[1;32m     <a href='vscode-notebook-cell:/Users/hipprofessional/Downloads/big_data_analytics.ipynb#Y362sZmlsZQ%3D%3D?line=10'>11</a>\u001b[0m \u001b[39m# Create a horizontal bar chart using seaborn\u001b[39;00m\n\u001b[1;32m     <a href='vscode-notebook-cell:/Users/hipprofessional/Downloads/big_data_analytics.ipynb#Y362sZmlsZQ%3D%3D?line=11'>12</a>\u001b[0m plt\u001b[39m.\u001b[39mfigure(figsize\u001b[39m=\u001b[39m(\u001b[39m12\u001b[39m, \u001b[39m8\u001b[39m))\n\u001b[0;32m---> <a href='vscode-notebook-cell:/Users/hipprofessional/Downloads/big_data_analytics.ipynb#Y362sZmlsZQ%3D%3D?line=12'>13</a>\u001b[0m ax \u001b[39m=\u001b[39m sns\u001b[39m.\u001b[39;49mbarplot(x\u001b[39m=\u001b[39;49m\u001b[39m\"\u001b[39;49m\u001b[39mcount\u001b[39;49m\u001b[39m\"\u001b[39;49m, y\u001b[39m=\u001b[39;49m\u001b[39m\"\u001b[39;49m\u001b[39mdetailed_category\u001b[39;49m\u001b[39m\"\u001b[39;49m, data\u001b[39m=\u001b[39;49mpandas_df)\n\u001b[1;32m     <a href='vscode-notebook-cell:/Users/hipprofessional/Downloads/big_data_analytics.ipynb#Y362sZmlsZQ%3D%3D?line=13'>14</a>\u001b[0m ax\u001b[39m.\u001b[39mxaxis\u001b[39m.\u001b[39mset_major_formatter(ticker\u001b[39m.\u001b[39mFuncFormatter(\u001b[39mlambda\u001b[39;00m x, _: \u001b[39m'\u001b[39m\u001b[39m{:,.0f}\u001b[39;00m\u001b[39m'\u001b[39m\u001b[39m.\u001b[39mformat(x)))\n\u001b[1;32m     <a href='vscode-notebook-cell:/Users/hipprofessional/Downloads/big_data_analytics.ipynb#Y362sZmlsZQ%3D%3D?line=15'>16</a>\u001b[0m \u001b[39m# Format the data labels with a thousands comma separator and add them to the bars\u001b[39;00m\n",
      "File \u001b[0;32m/opt/homebrew/lib/python3.11/site-packages/seaborn/categorical.py:2755\u001b[0m, in \u001b[0;36mbarplot\u001b[0;34m(data, x, y, hue, order, hue_order, estimator, errorbar, n_boot, units, seed, orient, color, palette, saturation, width, errcolor, errwidth, capsize, dodge, ci, ax, **kwargs)\u001b[0m\n\u001b[1;32m   2752\u001b[0m \u001b[39mif\u001b[39;00m estimator \u001b[39mis\u001b[39;00m \u001b[39mlen\u001b[39m:\n\u001b[1;32m   2753\u001b[0m     estimator \u001b[39m=\u001b[39m \u001b[39m\"\u001b[39m\u001b[39msize\u001b[39m\u001b[39m\"\u001b[39m\n\u001b[0;32m-> 2755\u001b[0m plotter \u001b[39m=\u001b[39m _BarPlotter(x, y, hue, data, order, hue_order,\n\u001b[1;32m   2756\u001b[0m                       estimator, errorbar, n_boot, units, seed,\n\u001b[1;32m   2757\u001b[0m                       orient, color, palette, saturation,\n\u001b[1;32m   2758\u001b[0m                       width, errcolor, errwidth, capsize, dodge)\n\u001b[1;32m   2760\u001b[0m \u001b[39mif\u001b[39;00m ax \u001b[39mis\u001b[39;00m \u001b[39mNone\u001b[39;00m:\n\u001b[1;32m   2761\u001b[0m     ax \u001b[39m=\u001b[39m plt\u001b[39m.\u001b[39mgca()\n",
      "File \u001b[0;32m/opt/homebrew/lib/python3.11/site-packages/seaborn/categorical.py:1532\u001b[0m, in \u001b[0;36m_BarPlotter.__init__\u001b[0;34m(self, x, y, hue, data, order, hue_order, estimator, errorbar, n_boot, units, seed, orient, color, palette, saturation, width, errcolor, errwidth, capsize, dodge)\u001b[0m\n\u001b[1;32m   1529\u001b[0m \u001b[39m\u001b[39m\u001b[39m\"\"\"Initialize the plotter.\"\"\"\u001b[39;00m\n\u001b[1;32m   1530\u001b[0m \u001b[39mself\u001b[39m\u001b[39m.\u001b[39mestablish_variables(x, y, hue, data, orient,\n\u001b[1;32m   1531\u001b[0m                          order, hue_order, units)\n\u001b[0;32m-> 1532\u001b[0m \u001b[39mself\u001b[39;49m\u001b[39m.\u001b[39;49mestablish_colors(color, palette, saturation)\n\u001b[1;32m   1533\u001b[0m \u001b[39mself\u001b[39m\u001b[39m.\u001b[39mestimate_statistic(estimator, errorbar, n_boot, seed)\n\u001b[1;32m   1535\u001b[0m \u001b[39mself\u001b[39m\u001b[39m.\u001b[39mdodge \u001b[39m=\u001b[39m dodge\n",
      "File \u001b[0;32m/opt/homebrew/lib/python3.11/site-packages/seaborn/categorical.py:707\u001b[0m, in \u001b[0;36m_CategoricalPlotter.establish_colors\u001b[0;34m(self, color, palette, saturation)\u001b[0m\n\u001b[1;32m    705\u001b[0m \u001b[39m# Determine the gray color to use for the lines framing the plot\u001b[39;00m\n\u001b[1;32m    706\u001b[0m light_vals \u001b[39m=\u001b[39m [rgb_to_hls(\u001b[39m*\u001b[39mc)[\u001b[39m1\u001b[39m] \u001b[39mfor\u001b[39;00m c \u001b[39min\u001b[39;00m rgb_colors]\n\u001b[0;32m--> 707\u001b[0m lum \u001b[39m=\u001b[39m \u001b[39mmin\u001b[39;49m(light_vals) \u001b[39m*\u001b[39m \u001b[39m.6\u001b[39m\n\u001b[1;32m    708\u001b[0m gray \u001b[39m=\u001b[39m mpl\u001b[39m.\u001b[39mcolors\u001b[39m.\u001b[39mrgb2hex((lum, lum, lum))\n\u001b[1;32m    710\u001b[0m \u001b[39m# Assign object attributes\u001b[39;00m\n",
      "\u001b[0;31mValueError\u001b[0m: min() arg is an empty sequence"
     ]
    },
    {
     "data": {
      "text/plain": [
       "<Figure size 1200x800 with 0 Axes>"
      ]
     },
     "metadata": {},
     "output_type": "display_data"
    }
   ],
   "source": [
    "# Group by 'detailed_category' and count the number of rows for each category\n",
    "grouped_df = df.groupBy(\"detailed_category\").agg(count(\"*\").alias(\"count\"))\n",
    "\n",
    "# Order by the count in descending order and limit to the top 20 categories\n",
    "top_30_df = grouped_df.orderBy(col(\"count\").desc()).limit(30)\n",
    "\n",
    "# Convert the PySpark DataFrame to a Pandas DataFrame for plotting with seaborn\n",
    "pandas_df = top_30_df.toPandas()\n",
    "\n",
    "# print(pandas_df)\n",
    "# Create a horizontal bar chart using seaborn\n",
    "plt.figure(figsize=(12, 8))\n",
    "ax = sns.barplot(x=\"count\", y=\"detailed_category\", data=pandas_df)\n",
    "ax.xaxis.set_major_formatter(ticker.FuncFormatter(lambda x, _: '{:,.0f}'.format(x)))\n",
    "\n",
    "# Format the data labels with a thousands comma separator and add them to the bars\n",
    "for index, value in enumerate(pandas_df[\"count\"]):\n",
    "    ax.text(value, index, f\"{value:,.0f}\", ha='left', va='center', color='black', fontsize=12)\n",
    "\n",
    "ax.set_xlabel(\"Number of Products\")\n",
    "ax.set_ylabel(\"Detailed Category\")\n",
    "ax.set_title(\"Top 30 detailed categories with the most products\")\n",
    "\n",
    "plt.tight_layout()\n",
    "plt.show()"
   ]
  },
  {
   "cell_type": "code",
   "execution_count": null,
   "id": "78927306",
   "metadata": {},
   "outputs": [],
   "source": []
  },
  {
   "cell_type": "code",
   "execution_count": null,
   "id": "cc1a37d9",
   "metadata": {},
   "outputs": [],
   "source": []
  },
  {
   "cell_type": "code",
   "execution_count": null,
   "id": "9e858eb8",
   "metadata": {},
   "outputs": [],
   "source": []
  },
  {
   "cell_type": "code",
   "execution_count": null,
   "id": "fee9bacc",
   "metadata": {},
   "outputs": [],
   "source": []
  },
  {
   "cell_type": "code",
   "execution_count": null,
   "id": "7c57c2fb",
   "metadata": {},
   "outputs": [],
   "source": []
  },
  {
   "attachments": {},
   "cell_type": "markdown",
   "id": "1c894009",
   "metadata": {},
   "source": [
    "#### <font color='red'>Let's focus our analysis on a specific detailed category</font>"
   ]
  },
  {
   "cell_type": "code",
   "execution_count": 39,
   "id": "f8fdd0e3",
   "metadata": {},
   "outputs": [
    {
     "name": "stderr",
     "output_type": "stream",
     "text": [
      "23/09/23 22:47:59 WARN CSVHeaderChecker: CSV header does not conform to the schema.\n",
      " Header: brand, final_price, item_weight, top_review\n",
      " Schema: brand, final_price, category_tree, rating\n",
      "Expected: category_tree but found: item_weight\n",
      "CSV file: file:///Users/hipprofessional/Downloads/Amazon%20products%20dataset.csv\n",
      "23/09/23 22:47:59 WARN CSVHeaderChecker: CSV header does not conform to the schema.\n",
      " Header: brand, final_price, item_weight, top_review\n",
      " Schema: brand, final_price, category_tree, rating\n",
      "Expected: category_tree but found: item_weight\n",
      "CSV file: file:///Users/hipprofessional/Downloads/Amazon%20products%20dataset.csv\n",
      "23/09/23 22:47:59 WARN CSVHeaderChecker: CSV header does not conform to the schema.\n",
      " Header: brand, final_price, item_weight, top_review\n",
      " Schema: brand, final_price, category_tree, rating\n",
      "Expected: category_tree but found: item_weight\n",
      "CSV file: file:///Users/hipprofessional/Downloads/Amazon%20products%20dataset.csv\n"
     ]
    },
    {
     "ename": "ValueError",
     "evalue": "min() arg is an empty sequence",
     "output_type": "error",
     "traceback": [
      "\u001b[0;31m---------------------------------------------------------------------------\u001b[0m",
      "\u001b[0;31mValueError\u001b[0m                                Traceback (most recent call last)",
      "\u001b[1;32m/Users/hipprofessional/Downloads/big_data_analytics.ipynb Cell 199\u001b[0m line \u001b[0;36m3\n\u001b[1;32m     <a href='vscode-notebook-cell:/Users/hipprofessional/Downloads/big_data_analytics.ipynb#Y402sZmlsZQ%3D%3D?line=27'>28</a>\u001b[0m fig, axes \u001b[39m=\u001b[39m plt\u001b[39m.\u001b[39msubplots(\u001b[39m1\u001b[39m, \u001b[39m3\u001b[39m, figsize\u001b[39m=\u001b[39m(\u001b[39m20\u001b[39m, \u001b[39m8\u001b[39m))\n\u001b[1;32m     <a href='vscode-notebook-cell:/Users/hipprofessional/Downloads/big_data_analytics.ipynb#Y402sZmlsZQ%3D%3D?line=29'>30</a>\u001b[0m \u001b[39m# Plot the first horizontal bar chart for brand count\u001b[39;00m\n\u001b[0;32m---> <a href='vscode-notebook-cell:/Users/hipprofessional/Downloads/big_data_analytics.ipynb#Y402sZmlsZQ%3D%3D?line=30'>31</a>\u001b[0m sns\u001b[39m.\u001b[39;49mbarplot(x\u001b[39m=\u001b[39;49m\u001b[39m\"\u001b[39;49m\u001b[39mbrand_count\u001b[39;49m\u001b[39m\"\u001b[39;49m, y\u001b[39m=\u001b[39;49m\u001b[39m\"\u001b[39;49m\u001b[39mbrand\u001b[39;49m\u001b[39m\"\u001b[39;49m, data\u001b[39m=\u001b[39;49mpandas_df, palette\u001b[39m=\u001b[39;49m\u001b[39m\"\u001b[39;49m\u001b[39mviridis\u001b[39;49m\u001b[39m\"\u001b[39;49m, ax\u001b[39m=\u001b[39;49maxes[\u001b[39m0\u001b[39;49m])\n\u001b[1;32m     <a href='vscode-notebook-cell:/Users/hipprofessional/Downloads/big_data_analytics.ipynb#Y402sZmlsZQ%3D%3D?line=32'>33</a>\u001b[0m \u001b[39m# Format the data labels for brand count\u001b[39;00m\n\u001b[1;32m     <a href='vscode-notebook-cell:/Users/hipprofessional/Downloads/big_data_analytics.ipynb#Y402sZmlsZQ%3D%3D?line=33'>34</a>\u001b[0m \u001b[39mfor\u001b[39;00m index, value \u001b[39min\u001b[39;00m \u001b[39menumerate\u001b[39m(pandas_df[\u001b[39m\"\u001b[39m\u001b[39mbrand_count\u001b[39m\u001b[39m\"\u001b[39m]):\n",
      "File \u001b[0;32m/opt/homebrew/lib/python3.11/site-packages/seaborn/categorical.py:2755\u001b[0m, in \u001b[0;36mbarplot\u001b[0;34m(data, x, y, hue, order, hue_order, estimator, errorbar, n_boot, units, seed, orient, color, palette, saturation, width, errcolor, errwidth, capsize, dodge, ci, ax, **kwargs)\u001b[0m\n\u001b[1;32m   2752\u001b[0m \u001b[39mif\u001b[39;00m estimator \u001b[39mis\u001b[39;00m \u001b[39mlen\u001b[39m:\n\u001b[1;32m   2753\u001b[0m     estimator \u001b[39m=\u001b[39m \u001b[39m\"\u001b[39m\u001b[39msize\u001b[39m\u001b[39m\"\u001b[39m\n\u001b[0;32m-> 2755\u001b[0m plotter \u001b[39m=\u001b[39m _BarPlotter(x, y, hue, data, order, hue_order,\n\u001b[1;32m   2756\u001b[0m                       estimator, errorbar, n_boot, units, seed,\n\u001b[1;32m   2757\u001b[0m                       orient, color, palette, saturation,\n\u001b[1;32m   2758\u001b[0m                       width, errcolor, errwidth, capsize, dodge)\n\u001b[1;32m   2760\u001b[0m \u001b[39mif\u001b[39;00m ax \u001b[39mis\u001b[39;00m \u001b[39mNone\u001b[39;00m:\n\u001b[1;32m   2761\u001b[0m     ax \u001b[39m=\u001b[39m plt\u001b[39m.\u001b[39mgca()\n",
      "File \u001b[0;32m/opt/homebrew/lib/python3.11/site-packages/seaborn/categorical.py:1532\u001b[0m, in \u001b[0;36m_BarPlotter.__init__\u001b[0;34m(self, x, y, hue, data, order, hue_order, estimator, errorbar, n_boot, units, seed, orient, color, palette, saturation, width, errcolor, errwidth, capsize, dodge)\u001b[0m\n\u001b[1;32m   1529\u001b[0m \u001b[39m\u001b[39m\u001b[39m\"\"\"Initialize the plotter.\"\"\"\u001b[39;00m\n\u001b[1;32m   1530\u001b[0m \u001b[39mself\u001b[39m\u001b[39m.\u001b[39mestablish_variables(x, y, hue, data, orient,\n\u001b[1;32m   1531\u001b[0m                          order, hue_order, units)\n\u001b[0;32m-> 1532\u001b[0m \u001b[39mself\u001b[39;49m\u001b[39m.\u001b[39;49mestablish_colors(color, palette, saturation)\n\u001b[1;32m   1533\u001b[0m \u001b[39mself\u001b[39m\u001b[39m.\u001b[39mestimate_statistic(estimator, errorbar, n_boot, seed)\n\u001b[1;32m   1535\u001b[0m \u001b[39mself\u001b[39m\u001b[39m.\u001b[39mdodge \u001b[39m=\u001b[39m dodge\n",
      "File \u001b[0;32m/opt/homebrew/lib/python3.11/site-packages/seaborn/categorical.py:707\u001b[0m, in \u001b[0;36m_CategoricalPlotter.establish_colors\u001b[0;34m(self, color, palette, saturation)\u001b[0m\n\u001b[1;32m    705\u001b[0m \u001b[39m# Determine the gray color to use for the lines framing the plot\u001b[39;00m\n\u001b[1;32m    706\u001b[0m light_vals \u001b[39m=\u001b[39m [rgb_to_hls(\u001b[39m*\u001b[39mc)[\u001b[39m1\u001b[39m] \u001b[39mfor\u001b[39;00m c \u001b[39min\u001b[39;00m rgb_colors]\n\u001b[0;32m--> 707\u001b[0m lum \u001b[39m=\u001b[39m \u001b[39mmin\u001b[39;49m(light_vals) \u001b[39m*\u001b[39m \u001b[39m.6\u001b[39m\n\u001b[1;32m    708\u001b[0m gray \u001b[39m=\u001b[39m mpl\u001b[39m.\u001b[39mcolors\u001b[39m.\u001b[39mrgb2hex((lum, lum, lum))\n\u001b[1;32m    710\u001b[0m \u001b[39m# Assign object attributes\u001b[39;00m\n",
      "\u001b[0;31mValueError\u001b[0m: min() arg is an empty sequence"
     ]
    },
    {
     "data": {
      "image/png": "[encoded data removed]",
      "text/plain": [
       "<Figure size 2000x800 with 3 Axes>"
      ]
     },
     "metadata": {},
     "output_type": "display_data"
    }
   ],
   "source": [
    "# Define the variables that we want to specify\n",
    "det_cat = 'Camera Cases'\n",
    "metric1 = 'rating'\n",
    "metric2 = 'final_price'\n",
    "\n",
    "# Filter the DataFrame to keep only rows where 'detailed_category' is 'Cases'\n",
    "filtered_df = df.filter(col(\"detailed_category\") == det_cat)\n",
    "\n",
    "# Group by 'brand' and count the number of rows for each brand\n",
    "grouped_df = filtered_df.groupBy(\"brand\").agg(count(\"*\").alias(\"brand_count\"))\n",
    "\n",
    "# Calculate the average metric (final_price) for each brand\n",
    "avg_metric1_df = filtered_df.groupBy(\"brand\").agg(avg(metric1).alias(\"avg_metric1\"))\n",
    "\n",
    "# Calculate the average rating for each brand\n",
    "avg_metric2_df = filtered_df.groupBy(\"brand\").agg(avg(metric2).alias(\"avg_metric2\"))\n",
    "\n",
    "# Join the grouped_df, avg_metric_df, and avg_rating_df DataFrames on 'brand' to combine the information\n",
    "pandas_df = grouped_df.join(avg_metric1_df, on=\"brand\", how=\"inner\").join(avg_metric2_df, on=\"brand\", how=\"inner\").toPandas()\n",
    "\n",
    "# Sort the DataFrame in descending order based on brand count\n",
    "pandas_df = pandas_df.sort_values(by=\"brand_count\", ascending=False)\n",
    "\n",
    "# Limit the result to the top 20 brands by count\n",
    "pandas_df = pandas_df.head(20)\n",
    "\n",
    "# Create a figure with three subplots\n",
    "fig, axes = plt.subplots(1, 3, figsize=(20, 8))\n",
    "\n",
    "# Plot the first horizontal bar chart for brand count\n",
    "sns.barplot(x=\"brand_count\", y=\"brand\", data=pandas_df, palette=\"viridis\", ax=axes[0])\n",
    "\n",
    "# Format the data labels for brand count\n",
    "for index, value in enumerate(pandas_df[\"brand_count\"]):\n",
    "    axes[0].text(value, index, f\"{value:,.0f}\", ha='left', va='center', color='black', fontsize=12)\n",
    "\n",
    "# Format the x-axis labels for brand count\n",
    "axes[0].xaxis.set_major_formatter(ticker.FuncFormatter(lambda x, _: '{:,.0f}'.format(x)))\n",
    "\n",
    "# Set labels and title for the first plot\n",
    "axes[0].set_xlabel(\"Number of Products\")\n",
    "axes[0].set_ylabel(\"Brand\")\n",
    "axes[0].set_title(\"Top 20 Brands with most products in \" + det_cat + \" category\")\n",
    "\n",
    "# Plot the second horizontal bar chart for average metric (final_price)\n",
    "sns.barplot(x=\"avg_metric1\", y=\"brand\", data=pandas_df, palette=\"viridis\", ax=axes[1])\n",
    "\n",
    "# Set a small offset for the data labels\n",
    "label_offset = 0.1\n",
    "\n",
    "# Format the data labels for average metric (final_price)\n",
    "for index, value in enumerate(pandas_df[\"avg_metric1\"]):\n",
    "    axes[1].text(value + label_offset, index, f\"{value:.1f}\", ha='left', va='center', color='black', fontsize=12)\n",
    "\n",
    "# Set labels and title for the second plot\n",
    "axes[1].set_xlabel(\"Average \" + metric1)\n",
    "axes[1].set_ylabel(\"\")  # Hide the ylabel for the second plot\n",
    "axes[1].set_title(\"Average \" + metric1 + \" for Top 20 Brands in \" + det_cat + \" category\")\n",
    "\n",
    "# Plot the third horizontal bar chart for average rating\n",
    "sns.barplot(x=\"avg_metric2\", y=\"brand\", data=pandas_df, palette=\"viridis\", ax=axes[2])\n",
    "\n",
    "# Format the data labels for average rating\n",
    "for index, value in enumerate(pandas_df[\"avg_metric2\"]):\n",
    "    axes[2].text(value + label_offset, index, f\"{value:.1f}\", ha='left', va='center', color='black', fontsize=12)\n",
    "\n",
    "# Set labels and title for the third plot\n",
    "axes[2].set_xlabel(\"Average \" + metric2)\n",
    "axes[2].set_ylabel(\"\")  # Hide the ylabel for the third plot\n",
    "axes[2].set_title(\"Average \" + metric2 + \" for Top 20 Brands in \" + det_cat + \" category\")\n",
    "\n",
    "# Adjust spacing between the subplots\n",
    "plt.tight_layout()\n",
    "\n",
    "# Display the plots\n",
    "plt.show()"
   ]
  },
  {
   "cell_type": "code",
   "execution_count": null,
   "id": "62dcc0a2",
   "metadata": {},
   "outputs": [],
   "source": []
  },
  {
   "cell_type": "code",
   "execution_count": null,
   "id": "e9a16b56",
   "metadata": {},
   "outputs": [],
   "source": []
  },
  {
   "cell_type": "code",
   "execution_count": null,
   "id": "af967e96",
   "metadata": {},
   "outputs": [],
   "source": []
  },
  {
   "cell_type": "code",
   "execution_count": null,
   "id": "d97e6b88",
   "metadata": {},
   "outputs": [],
   "source": []
  },
  {
   "cell_type": "code",
   "execution_count": null,
   "id": "734df308",
   "metadata": {},
   "outputs": [],
   "source": []
  },
  {
   "attachments": {},
   "cell_type": "markdown",
   "id": "73759598",
   "metadata": {},
   "source": [
    "#### <font color='red'>Which specific products should we do a deep-dive on?</font>"
   ]
  },
  {
   "cell_type": "code",
   "execution_count": 40,
   "id": "d1da792f",
   "metadata": {},
   "outputs": [
    {
     "name": "stderr",
     "output_type": "stream",
     "text": [
      "23/09/23 22:48:12 WARN CSVHeaderChecker: CSV header does not conform to the schema.\n",
      " Header: timestamp, asin, brand, final_price, reviews_count, title, url, video_count, categories, item_weight, top_review\n",
      " Schema: timestamp, asin, brand, final_price, reviews_count, images_count, title, url, video_count, category_tree, rating\n",
      "Expected: images_count but found: title\n",
      "CSV file: file:///Users/hipprofessional/Downloads/Amazon%20products%20dataset.csv\n"
     ]
    },
    {
     "data": {
      "text/html": [
       "<div>\n",
       "<style scoped>\n",
       "    .dataframe tbody tr th:only-of-type {\n",
       "        vertical-align: middle;\n",
       "    }\n",
       "\n",
       "    .dataframe tbody tr th {\n",
       "        vertical-align: top;\n",
       "    }\n",
       "\n",
       "    .dataframe thead th {\n",
       "        text-align: right;\n",
       "    }\n",
       "</style>\n",
       "<table border=\"1\" class=\"dataframe\">\n",
       "  <thead>\n",
       "    <tr style=\"text-align: right;\">\n",
       "      <th></th>\n",
       "      <th>timestamp</th>\n",
       "      <th>asin</th>\n",
       "      <th>brand</th>\n",
       "      <th>final_price</th>\n",
       "      <th>reviews_count</th>\n",
       "      <th>images_count</th>\n",
       "      <th>title</th>\n",
       "      <th>url</th>\n",
       "      <th>video_count</th>\n",
       "      <th>rating</th>\n",
       "      <th>category_tree</th>\n",
       "      <th>cat_arr</th>\n",
       "      <th>detailed_category</th>\n",
       "    </tr>\n",
       "  </thead>\n",
       "  <tbody>\n",
       "  </tbody>\n",
       "</table>\n",
       "</div>"
      ],
      "text/plain": [
       "Empty DataFrame\n",
       "Columns: [timestamp, asin, brand, final_price, reviews_count, images_count, title, url, video_count, rating, category_tree, cat_arr, detailed_category]\n",
       "Index: []"
      ]
     },
     "execution_count": 40,
     "metadata": {},
     "output_type": "execute_result"
    }
   ],
   "source": [
    "#brands = ['Pelican','Nanuk'] # expensive\n",
    "#brands = ['Lowepro','Eylar'] # medium\n",
    "brands = ['Fintie','Leayjeen'] # cheap\n",
    "\n",
    "(df.filter(col(\"brand\").isin(brands) & (col(\"detailed_category\") == det_cat))\n",
    "              .sort(col(\"rating\").desc())\n",
    "              .limit(30)\n",
    "              .toPandas())"
   ]
  },
  {
   "cell_type": "code",
   "execution_count": null,
   "id": "2f3a595a",
   "metadata": {},
   "outputs": [],
   "source": []
  },
  {
   "cell_type": "code",
   "execution_count": null,
   "id": "7583dadc",
   "metadata": {},
   "outputs": [],
   "source": []
  },
  {
   "cell_type": "code",
   "execution_count": null,
   "id": "b079bf31",
   "metadata": {},
   "outputs": [],
   "source": []
  },
  {
   "cell_type": "code",
   "execution_count": null,
   "id": "46d1f99e",
   "metadata": {},
   "outputs": [],
   "source": []
  },
  {
   "cell_type": "code",
   "execution_count": null,
   "id": "560258c8",
   "metadata": {},
   "outputs": [],
   "source": []
  },
  {
   "attachments": {},
   "cell_type": "markdown",
   "id": "1445a652",
   "metadata": {},
   "source": [
    "#### <font color='red'>How many images and videos should our products have?</font>"
   ]
  },
  {
   "cell_type": "code",
   "execution_count": 41,
   "id": "14863be4",
   "metadata": {},
   "outputs": [
    {
     "name": "stderr",
     "output_type": "stream",
     "text": [
      "23/09/23 22:48:15 WARN CSVHeaderChecker: CSV header does not conform to the schema.\n",
      " Header: final_price, title, categories, item_weight, top_review\n",
      " Schema: final_price, images_count, video_count, category_tree, rating\n",
      "Expected: images_count but found: title\n",
      "CSV file: file:///Users/hipprofessional/Downloads/Amazon%20products%20dataset.csv\n"
     ]
    },
    {
     "ename": "TypeError",
     "evalue": "DataFrame.pivot() takes 1 positional argument but 4 were given",
     "output_type": "error",
     "traceback": [
      "\u001b[0;31m---------------------------------------------------------------------------\u001b[0m",
      "\u001b[0;31mTypeError\u001b[0m                                 Traceback (most recent call last)",
      "\u001b[1;32m/Users/hipprofessional/Downloads/big_data_analytics.ipynb Cell 213\u001b[0m line \u001b[0;36m1\n\u001b[1;32m     <a href='vscode-notebook-cell:/Users/hipprofessional/Downloads/big_data_analytics.ipynb#Y422sZmlsZQ%3D%3D?line=13'>14</a>\u001b[0m \u001b[39m# Create a heatmap using Seaborn\u001b[39;00m\n\u001b[1;32m     <a href='vscode-notebook-cell:/Users/hipprofessional/Downloads/big_data_analytics.ipynb#Y422sZmlsZQ%3D%3D?line=14'>15</a>\u001b[0m plt\u001b[39m.\u001b[39mfigure(figsize\u001b[39m=\u001b[39m(\u001b[39m10\u001b[39m, \u001b[39m10\u001b[39m))\n\u001b[0;32m---> <a href='vscode-notebook-cell:/Users/hipprofessional/Downloads/big_data_analytics.ipynb#Y422sZmlsZQ%3D%3D?line=15'>16</a>\u001b[0m heatmap_data \u001b[39m=\u001b[39m pandas_df\u001b[39m.\u001b[39;49mpivot(\u001b[39m\"\u001b[39;49m\u001b[39mimages_count\u001b[39;49m\u001b[39m\"\u001b[39;49m, \u001b[39m\"\u001b[39;49m\u001b[39mvideo_count\u001b[39;49m\u001b[39m\"\u001b[39;49m, \u001b[39m\"\u001b[39;49m\u001b[39mcount\u001b[39;49m\u001b[39m\"\u001b[39;49m)\n\u001b[1;32m     <a href='vscode-notebook-cell:/Users/hipprofessional/Downloads/big_data_analytics.ipynb#Y422sZmlsZQ%3D%3D?line=16'>17</a>\u001b[0m sns\u001b[39m.\u001b[39mheatmap(heatmap_data, annot\u001b[39m=\u001b[39m\u001b[39mTrue\u001b[39;00m, cmap\u001b[39m=\u001b[39msns\u001b[39m.\u001b[39mcubehelix_palette(as_cmap\u001b[39m=\u001b[39m\u001b[39mTrue\u001b[39;00m), cbar\u001b[39m=\u001b[39m\u001b[39mTrue\u001b[39;00m, fmt\u001b[39m=\u001b[39m\u001b[39m\"\u001b[39m\u001b[39m,g\u001b[39m\u001b[39m\"\u001b[39m)\n\u001b[1;32m     <a href='vscode-notebook-cell:/Users/hipprofessional/Downloads/big_data_analytics.ipynb#Y422sZmlsZQ%3D%3D?line=18'>19</a>\u001b[0m \u001b[39m# Customize the plot\u001b[39;00m\n",
      "\u001b[0;31mTypeError\u001b[0m: DataFrame.pivot() takes 1 positional argument but 4 were given"
     ]
    },
    {
     "data": {
      "text/plain": [
       "<Figure size 1000x1000 with 0 Axes>"
      ]
     },
     "metadata": {},
     "output_type": "display_data"
    }
   ],
   "source": [
    "#brands = ['Pelican','Nanuk'] # expensive\n",
    "#brands = ['Lowepro','Eylar'] # medium\n",
    "brands = ['Fintie','Leayjeen'] # cheap\n",
    "\n",
    "\n",
    "df_filtered = df.filter(col(\"brand\").isin(brands) & (col(\"detailed_category\") == det_cat))\n",
    "\n",
    "# Group by 'images_count' and 'video_count' and count the occurrences\n",
    "grouped_df = filtered_df.groupBy(\"images_count\", \"video_count\").count()\n",
    "\n",
    "# Convert the PySpark DataFrame to a Pandas DataFrame\n",
    "pandas_df = grouped_df.toPandas()\n",
    "\n",
    "# Create a heatmap using Seaborn\n",
    "plt.figure(figsize=(10, 10))\n",
    "heatmap_data = pandas_df.pivot(\"images_count\", \"video_count\", \"count\")\n",
    "sns.heatmap(heatmap_data, annot=True, cmap=sns.cubehelix_palette(as_cmap=True), cbar=True, fmt=\",g\")\n",
    "\n",
    "# Customize the plot\n",
    "plt.xlabel(\"Video Count\")\n",
    "plt.ylabel(\"Images Count\")\n",
    "plt.title(\"How many images and videos should the product have?\", fontsize=15)\n",
    "\n",
    "# Show the plot\n",
    "plt.show()"
   ]
  },
  {
   "cell_type": "code",
   "execution_count": null,
   "id": "08619890",
   "metadata": {},
   "outputs": [],
   "source": []
  },
  {
   "cell_type": "code",
   "execution_count": null,
   "id": "a0f0c994",
   "metadata": {},
   "outputs": [],
   "source": []
  },
  {
   "cell_type": "code",
   "execution_count": null,
   "id": "41c8c8bf",
   "metadata": {},
   "outputs": [],
   "source": []
  },
  {
   "cell_type": "code",
   "execution_count": null,
   "id": "3924c38b",
   "metadata": {},
   "outputs": [],
   "source": []
  }
 ],
 "metadata": {
  "kernelspec": {
   "display_name": "Python 3 (ipykernel)",
   "language": "python",
   "name": "python3"
  },
  "language_info": {
   "codemirror_mode": {
    "name": "ipython",
    "version": 3
   },
   "file_extension": ".py",
   "mimetype": "text/x-python",
   "name": "python",
   "nbconvert_exporter": "python",
   "pygments_lexer": "ipython3",
   "version": "3.11.5"
  }
 },
 "nbformat": 4,
 "nbformat_minor": 5
}
